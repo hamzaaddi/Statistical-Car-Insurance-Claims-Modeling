{
 "cells": [
  {
   "cell_type": "markdown",
   "metadata": {
    "id": "L38oq0lNzz8J"
   },
   "source": [
    "# Description du probleme"
   ]
  },
  {
   "cell_type": "markdown",
   "metadata": {
    "id": "ZC_ZL-nTzz8Q"
   },
   "source": [
    "Modélisation du coût moyen des sinistres en assurance RC automobile : Ce projet porte sur la modélisation des coût moyen des sinistres en fonction de la puissance fiscale, l’âge du véhicule, l’âge du conducteur, la marque et le carburant… Le modèle glm et les méthodes de machine Learning seront utilisés pour modéliser le coût moyen des sinistres"
   ]
  },
  {
   "cell_type": "markdown",
   "metadata": {
    "id": "iBQb1Y5pzz8S"
   },
   "source": [
    "**Importing packages**"
   ]
  },
  {
   "cell_type": "code",
   "execution_count": 115,
   "metadata": {
    "collapsed": true,
    "id": "omBFXmfUzz8S"
   },
   "outputs": [],
   "source": [
    "import pandas as pd\n",
    "import matplotlib.pyplot as plt\n",
    "import numpy as np\n"
   ]
  },
  {
   "cell_type": "markdown",
   "metadata": {
    "id": "D7ABXA1gzz8U"
   },
   "source": [
    "reading data"
   ]
  },
  {
   "cell_type": "code",
   "execution_count": 116,
   "metadata": {
    "colab": {
     "base_uri": "https://localhost:8080/",
     "height": 328
    },
    "id": "ycIOrbb2zz8V",
    "outputId": "ba05ae63-eb6b-4f7a-f1eb-8913aa49acb2"
   },
   "outputs": [],
   "source": [
    "production= pd.read_csv(r'C:\\Users\\hamza.addi\\Downloads\\Untitled_Message\\production.csv' , encoding='latin-1', sep=\";\")\n",
    "sinistre= pd.read_csv(r'C:\\Users\\hamza.addi\\Downloads\\Untitled_Message\\sinistre.csv', encoding='latin-1', sep=\";\")"
   ]
  },
  {
   "cell_type": "code",
   "execution_count": 117,
   "metadata": {
    "collapsed": true,
    "id": "AJRUDrv1zz8W"
   },
   "outputs": [],
   "source": [
    "sinistre.rename(columns={\"annee_reference\":\"exercice\"}, inplace=True)\n",
    "production.rename(columns={\"Comubsution\":\"combustion\"}, inplace=True)"
   ]
  },
  {
   "cell_type": "markdown",
   "metadata": {
    "id": "6wzRQWNAzz8X"
   },
   "source": [
    "# Data preprocessing "
   ]
  },
  {
   "cell_type": "markdown",
   "metadata": {},
   "source": [
    "## Data cleaning"
   ]
  },
  {
   "cell_type": "code",
   "execution_count": 118,
   "metadata": {
    "id": "5VT9w0KDzz8Z"
   },
   "outputs": [
    {
     "data": {
      "text/html": [
       "<div>\n",
       "<style>\n",
       "    .dataframe thead tr:only-child th {\n",
       "        text-align: right;\n",
       "    }\n",
       "\n",
       "    .dataframe thead th {\n",
       "        text-align: left;\n",
       "    }\n",
       "\n",
       "    .dataframe tbody tr th {\n",
       "        vertical-align: top;\n",
       "    }\n",
       "</style>\n",
       "<table border=\"1\" class=\"dataframe\">\n",
       "  <thead>\n",
       "    <tr style=\"text-align: right;\">\n",
       "      <th></th>\n",
       "      <th>numepolice</th>\n",
       "      <th>exercice</th>\n",
       "      <th>DMC</th>\n",
       "      <th>DOB</th>\n",
       "      <th>Sexe</th>\n",
       "      <th>Zone</th>\n",
       "      <th>combustion</th>\n",
       "      <th>PF</th>\n",
       "      <th>exposition</th>\n",
       "      <th>Unnamed: 9</th>\n",
       "    </tr>\n",
       "  </thead>\n",
       "  <tbody>\n",
       "    <tr>\n",
       "      <th>0</th>\n",
       "      <td>81901.0</td>\n",
       "      <td>2014</td>\n",
       "      <td>13/10/1981</td>\n",
       "      <td>10/05/1983</td>\n",
       "      <td>M</td>\n",
       "      <td>Tanger-Tétouan-Hoceïma</td>\n",
       "      <td>Essence</td>\n",
       "      <td>&lt;8</td>\n",
       "      <td>0.783100</td>\n",
       "      <td>NaN</td>\n",
       "    </tr>\n",
       "    <tr>\n",
       "      <th>1</th>\n",
       "      <td>32189.0</td>\n",
       "      <td>2009</td>\n",
       "      <td>06/06/1974</td>\n",
       "      <td>29/10/1990</td>\n",
       "      <td>M</td>\n",
       "      <td>Tanger-Tétouan-Hoceïma</td>\n",
       "      <td>Essence</td>\n",
       "      <td>&lt;8</td>\n",
       "      <td>0.869327</td>\n",
       "      <td>NaN</td>\n",
       "    </tr>\n",
       "    <tr>\n",
       "      <th>2</th>\n",
       "      <td>19126.0</td>\n",
       "      <td>2012</td>\n",
       "      <td>23/01/1997</td>\n",
       "      <td>13/02/1955</td>\n",
       "      <td>M</td>\n",
       "      <td>Tanger-Tétouan-Hoceïma</td>\n",
       "      <td>Essence</td>\n",
       "      <td>&lt;8</td>\n",
       "      <td>0.167662</td>\n",
       "      <td>NaN</td>\n",
       "    </tr>\n",
       "    <tr>\n",
       "      <th>3</th>\n",
       "      <td>29515.0</td>\n",
       "      <td>2017</td>\n",
       "      <td>08/04/1997</td>\n",
       "      <td>10/03/1967</td>\n",
       "      <td>M</td>\n",
       "      <td>Tanger-Tétouan-Hoceïma</td>\n",
       "      <td>Essence</td>\n",
       "      <td>&lt;8</td>\n",
       "      <td>0.864763</td>\n",
       "      <td>NaN</td>\n",
       "    </tr>\n",
       "    <tr>\n",
       "      <th>4</th>\n",
       "      <td>72077.0</td>\n",
       "      <td>2016</td>\n",
       "      <td>09/12/1994</td>\n",
       "      <td>01/07/1983</td>\n",
       "      <td>M</td>\n",
       "      <td>Tanger-Tétouan-Hoceïma</td>\n",
       "      <td>Essence</td>\n",
       "      <td>&lt;8</td>\n",
       "      <td>0.369087</td>\n",
       "      <td>NaN</td>\n",
       "    </tr>\n",
       "  </tbody>\n",
       "</table>\n",
       "</div>"
      ],
      "text/plain": [
       "   numepolice  exercice         DMC         DOB Sexe                    Zone  \\\n",
       "0     81901.0      2014  13/10/1981  10/05/1983    M  Tanger-Tétouan-Hoceïma   \n",
       "1     32189.0      2009  06/06/1974  29/10/1990    M  Tanger-Tétouan-Hoceïma   \n",
       "2     19126.0      2012  23/01/1997  13/02/1955    M  Tanger-Tétouan-Hoceïma   \n",
       "3     29515.0      2017  08/04/1997  10/03/1967    M  Tanger-Tétouan-Hoceïma   \n",
       "4     72077.0      2016  09/12/1994  01/07/1983    M  Tanger-Tétouan-Hoceïma   \n",
       "\n",
       "  combustion  PF  exposition  Unnamed: 9  \n",
       "0    Essence  <8    0.783100         NaN  \n",
       "1    Essence  <8    0.869327         NaN  \n",
       "2    Essence  <8    0.167662         NaN  \n",
       "3    Essence  <8    0.864763         NaN  \n",
       "4    Essence  <8    0.369087         NaN  "
      ]
     },
     "execution_count": 118,
     "metadata": {},
     "output_type": "execute_result"
    }
   ],
   "source": [
    "production.head()"
   ]
  },
  {
   "cell_type": "code",
   "execution_count": 119,
   "metadata": {
    "id": "4JGJvioFzz8b"
   },
   "outputs": [
    {
     "data": {
      "text/html": [
       "<div>\n",
       "<style>\n",
       "    .dataframe thead tr:only-child th {\n",
       "        text-align: right;\n",
       "    }\n",
       "\n",
       "    .dataframe thead th {\n",
       "        text-align: left;\n",
       "    }\n",
       "\n",
       "    .dataframe tbody tr th {\n",
       "        vertical-align: top;\n",
       "    }\n",
       "</style>\n",
       "<table border=\"1\" class=\"dataframe\">\n",
       "  <thead>\n",
       "    <tr style=\"text-align: right;\">\n",
       "      <th></th>\n",
       "      <th>numepolice</th>\n",
       "      <th>exercice</th>\n",
       "      <th>n_sinistre</th>\n",
       "      <th>montantsinistre</th>\n",
       "    </tr>\n",
       "  </thead>\n",
       "  <tbody>\n",
       "    <tr>\n",
       "      <th>0</th>\n",
       "      <td>81901</td>\n",
       "      <td>2014</td>\n",
       "      <td>20122123</td>\n",
       "      <td>74562.071796</td>\n",
       "    </tr>\n",
       "    <tr>\n",
       "      <th>1</th>\n",
       "      <td>32189</td>\n",
       "      <td>2009</td>\n",
       "      <td>20122124</td>\n",
       "      <td>15406.714135</td>\n",
       "    </tr>\n",
       "    <tr>\n",
       "      <th>2</th>\n",
       "      <td>19126</td>\n",
       "      <td>2012</td>\n",
       "      <td>20122125</td>\n",
       "      <td>1414.462804</td>\n",
       "    </tr>\n",
       "    <tr>\n",
       "      <th>3</th>\n",
       "      <td>29557</td>\n",
       "      <td>2009</td>\n",
       "      <td>20122126</td>\n",
       "      <td>829.018140</td>\n",
       "    </tr>\n",
       "    <tr>\n",
       "      <th>4</th>\n",
       "      <td>32576</td>\n",
       "      <td>2011</td>\n",
       "      <td>20122127</td>\n",
       "      <td>32718.336369</td>\n",
       "    </tr>\n",
       "  </tbody>\n",
       "</table>\n",
       "</div>"
      ],
      "text/plain": [
       "   numepolice  exercice  n_sinistre  montantsinistre\n",
       "0       81901      2014    20122123     74562.071796\n",
       "1       32189      2009    20122124     15406.714135\n",
       "2       19126      2012    20122125      1414.462804\n",
       "3       29557      2009    20122126       829.018140\n",
       "4       32576      2011    20122127     32718.336369"
      ]
     },
     "execution_count": 119,
     "metadata": {},
     "output_type": "execute_result"
    }
   ],
   "source": [
    "sinistre.head()"
   ]
  },
  {
   "cell_type": "code",
   "execution_count": 120,
   "metadata": {
    "id": "Vjcir-F6zz8b"
   },
   "outputs": [
    {
     "data": {
      "text/plain": [
       "(10009, 10)"
      ]
     },
     "execution_count": 120,
     "metadata": {},
     "output_type": "execute_result"
    }
   ],
   "source": [
    "production.shape"
   ]
  },
  {
   "cell_type": "code",
   "execution_count": 121,
   "metadata": {
    "id": "MSxEEImlsyh5"
   },
   "outputs": [
    {
     "data": {
      "text/plain": [
       "0        False\n",
       "1        False\n",
       "2        False\n",
       "3        False\n",
       "4        False\n",
       "5        False\n",
       "6        False\n",
       "7        False\n",
       "8        False\n",
       "9        False\n",
       "10       False\n",
       "11       False\n",
       "12       False\n",
       "13       False\n",
       "14       False\n",
       "15       False\n",
       "16       False\n",
       "17       False\n",
       "18       False\n",
       "19       False\n",
       "20       False\n",
       "21       False\n",
       "22       False\n",
       "23       False\n",
       "24       False\n",
       "25       False\n",
       "26       False\n",
       "27       False\n",
       "28       False\n",
       "29       False\n",
       "         ...  \n",
       "9979     False\n",
       "9980     False\n",
       "9981     False\n",
       "9982     False\n",
       "9983     False\n",
       "9984     False\n",
       "9985     False\n",
       "9986     False\n",
       "9987     False\n",
       "9988     False\n",
       "9989     False\n",
       "9990     False\n",
       "9991     False\n",
       "9992     False\n",
       "9993     False\n",
       "9994     False\n",
       "9995     False\n",
       "9996     False\n",
       "9997     False\n",
       "9998     False\n",
       "9999     False\n",
       "10000     True\n",
       "10001     True\n",
       "10002     True\n",
       "10003     True\n",
       "10004     True\n",
       "10005     True\n",
       "10006     True\n",
       "10007     True\n",
       "10008     True\n",
       "Length: 10009, dtype: bool"
      ]
     },
     "execution_count": 121,
     "metadata": {},
     "output_type": "execute_result"
    }
   ],
   "source": [
    "production.duplicated()"
   ]
  },
  {
   "cell_type": "code",
   "execution_count": 122,
   "metadata": {
    "collapsed": true,
    "id": "Esp9eKG_zz8c"
   },
   "outputs": [],
   "source": [
    "#on enleve les lignes dupliquees dans notre dataset  \n",
    "production = production.drop_duplicates()"
   ]
  },
  {
   "cell_type": "code",
   "execution_count": 123,
   "metadata": {
    "id": "KGLZ6CwQzz8d"
   },
   "outputs": [
    {
     "data": {
      "text/plain": [
       "(10000, 10)"
      ]
     },
     "execution_count": 123,
     "metadata": {},
     "output_type": "execute_result"
    }
   ],
   "source": [
    "production.shape"
   ]
  },
  {
   "cell_type": "code",
   "execution_count": 124,
   "metadata": {
    "id": "QkW361Rjzz8e"
   },
   "outputs": [],
   "source": [
    "#suppression des colonnes non utiles \n",
    "production.drop('Unnamed: 9', axis=1, inplace = True)"
   ]
  },
  {
   "cell_type": "code",
   "execution_count": 125,
   "metadata": {
    "id": "Wrba2uzXzz8e"
   },
   "outputs": [
    {
     "data": {
      "text/html": [
       "<div>\n",
       "<style>\n",
       "    .dataframe thead tr:only-child th {\n",
       "        text-align: right;\n",
       "    }\n",
       "\n",
       "    .dataframe thead th {\n",
       "        text-align: left;\n",
       "    }\n",
       "\n",
       "    .dataframe tbody tr th {\n",
       "        vertical-align: top;\n",
       "    }\n",
       "</style>\n",
       "<table border=\"1\" class=\"dataframe\">\n",
       "  <thead>\n",
       "    <tr style=\"text-align: right;\">\n",
       "      <th></th>\n",
       "      <th>numepolice</th>\n",
       "      <th>exercice</th>\n",
       "      <th>n_sinistre</th>\n",
       "      <th>montantsinistre</th>\n",
       "    </tr>\n",
       "  </thead>\n",
       "  <tbody>\n",
       "    <tr>\n",
       "      <th>175</th>\n",
       "      <td>98755</td>\n",
       "      <td>2017</td>\n",
       "      <td>20122298</td>\n",
       "      <td>1549.414209</td>\n",
       "    </tr>\n",
       "    <tr>\n",
       "      <th>5149</th>\n",
       "      <td>87124</td>\n",
       "      <td>2017</td>\n",
       "      <td>20127272</td>\n",
       "      <td>16069.782197</td>\n",
       "    </tr>\n",
       "    <tr>\n",
       "      <th>1574</th>\n",
       "      <td>32906</td>\n",
       "      <td>2009</td>\n",
       "      <td>20123697</td>\n",
       "      <td>982.827070</td>\n",
       "    </tr>\n",
       "    <tr>\n",
       "      <th>4808</th>\n",
       "      <td>52839</td>\n",
       "      <td>2011</td>\n",
       "      <td>20126931</td>\n",
       "      <td>8599.233065</td>\n",
       "    </tr>\n",
       "    <tr>\n",
       "      <th>3812</th>\n",
       "      <td>58672</td>\n",
       "      <td>2009</td>\n",
       "      <td>20125935</td>\n",
       "      <td>845.614241</td>\n",
       "    </tr>\n",
       "  </tbody>\n",
       "</table>\n",
       "</div>"
      ],
      "text/plain": [
       "      numepolice  exercice  n_sinistre  montantsinistre\n",
       "175        98755      2017    20122298      1549.414209\n",
       "5149       87124      2017    20127272     16069.782197\n",
       "1574       32906      2009    20123697       982.827070\n",
       "4808       52839      2011    20126931      8599.233065\n",
       "3812       58672      2009    20125935       845.614241"
      ]
     },
     "execution_count": 125,
     "metadata": {},
     "output_type": "execute_result"
    }
   ],
   "source": [
    "sinistre.sample(5)"
   ]
  },
  {
   "cell_type": "markdown",
   "metadata": {
    "id": "EN6x6PLVzz8f"
   },
   "source": [
    "dealing with nan values "
   ]
  },
  {
   "cell_type": "code",
   "execution_count": 126,
   "metadata": {
    "id": "3tW2iQ_bzz8f"
   },
   "outputs": [
    {
     "name": "stdout",
     "output_type": "stream",
     "text": [
      "numepolice    1\n",
      "exercice      0\n",
      "DMC           1\n",
      "DOB           1\n",
      "Sexe          1\n",
      "Zone          5\n",
      "combustion    1\n",
      "PF            4\n",
      "exposition    0\n",
      "dtype: int64\n",
      "-----------------\n",
      "numepolice         0\n",
      "exercice           0\n",
      "n_sinistre         0\n",
      "montantsinistre    0\n",
      "dtype: int64\n"
     ]
    }
   ],
   "source": [
    "print(production.isnull().sum())\n",
    "print('-----------------')\n",
    "print(sinistre.isnull().sum())"
   ]
  },
  {
   "cell_type": "code",
   "execution_count": 127,
   "metadata": {
    "collapsed": true,
    "id": "hUk8LacPzz8g"
   },
   "outputs": [],
   "source": [
    "production.dropna(inplace=True)\n",
    "sinistre.dropna(inplace=True)"
   ]
  },
  {
   "cell_type": "code",
   "execution_count": 128,
   "metadata": {
    "id": "05fRywfHzz8h"
   },
   "outputs": [
    {
     "data": {
      "text/plain": [
       "(9988, 9)"
      ]
     },
     "execution_count": 128,
     "metadata": {},
     "output_type": "execute_result"
    }
   ],
   "source": [
    "production.shape"
   ]
  },
  {
   "cell_type": "code",
   "execution_count": 129,
   "metadata": {
    "id": "wur8yGdgzz8h"
   },
   "outputs": [
    {
     "data": {
      "text/plain": [
       "numepolice    float64\n",
       "exercice        int64\n",
       "DMC            object\n",
       "DOB            object\n",
       "Sexe           object\n",
       "Zone           object\n",
       "combustion     object\n",
       "PF             object\n",
       "exposition    float64\n",
       "dtype: object"
      ]
     },
     "execution_count": 129,
     "metadata": {},
     "output_type": "execute_result"
    }
   ],
   "source": [
    "production.dtypes"
   ]
  },
  {
   "cell_type": "code",
   "execution_count": 130,
   "metadata": {
    "id": "FGGkq_A94plh"
   },
   "outputs": [
    {
     "data": {
      "text/plain": [
       "numepolice           int64\n",
       "exercice             int64\n",
       "n_sinistre           int64\n",
       "montantsinistre    float64\n",
       "dtype: object"
      ]
     },
     "execution_count": 130,
     "metadata": {},
     "output_type": "execute_result"
    }
   ],
   "source": [
    "sinistre.dtypes"
   ]
  },
  {
   "cell_type": "markdown",
   "metadata": {
    "id": "gISO4S0wzz8i"
   },
   "source": [
    "**correct the type of features**"
   ]
  },
  {
   "cell_type": "code",
   "execution_count": 131,
   "metadata": {
    "collapsed": true,
    "id": "blRQX0Ihzz8i"
   },
   "outputs": [],
   "source": [
    "production[\"numepolice\"]= production[\"numepolice\"].astype(int)\n",
    "sinistre[\"numepolice\"]= sinistre[\"numepolice\"].astype(int)\n",
    "production[\"exercice\"]= production[\"exercice\"].astype(int)\n",
    "sinistre[\"exercice\"]= sinistre[\"exercice\"].astype(int)"
   ]
  },
  {
   "cell_type": "code",
   "execution_count": 132,
   "metadata": {
    "id": "CAkDdR-5zz8j"
   },
   "outputs": [
    {
     "data": {
      "text/plain": [
       "Timestamp('1677-09-21 00:12:43.145225')"
      ]
     },
     "execution_count": 132,
     "metadata": {},
     "output_type": "execute_result"
    }
   ],
   "source": [
    "pd.Timestamp.min"
   ]
  },
  {
   "cell_type": "code",
   "execution_count": 133,
   "metadata": {
    "id": "fwFrfKy9zz8j"
   },
   "outputs": [
    {
     "data": {
      "text/plain": [
       "Timestamp('2262-04-11 23:47:16.854775807')"
      ]
     },
     "execution_count": 133,
     "metadata": {},
     "output_type": "execute_result"
    }
   ],
   "source": [
    "pd.Timestamp.max"
   ]
  },
  {
   "cell_type": "code",
   "execution_count": 134,
   "metadata": {
    "collapsed": true,
    "id": "VpptNhfbzz8k"
   },
   "outputs": [],
   "source": [
    "production['date2'] = pd.to_datetime(production['DOB'], errors = 'coerce')"
   ]
  },
  {
   "cell_type": "code",
   "execution_count": 136,
   "metadata": {
    "id": "SveUftPkzz8k"
   },
   "outputs": [
    {
     "ename": "AttributeError",
     "evalue": "'Series' object has no attribute 'isna'",
     "output_type": "error",
     "traceback": [
      "\u001b[1;31m---------------------------------------------------------------------------\u001b[0m",
      "\u001b[1;31mAttributeError\u001b[0m                            Traceback (most recent call last)",
      "\u001b[1;32m<ipython-input-136-d209195c609b>\u001b[0m in \u001b[0;36m<module>\u001b[1;34m()\u001b[0m\n\u001b[1;32m----> 1\u001b[1;33m \u001b[0mproduction\u001b[0m\u001b[1;33m[\u001b[0m\u001b[0mproduction\u001b[0m\u001b[1;33m[\u001b[0m\u001b[1;34m'date2'\u001b[0m\u001b[1;33m]\u001b[0m\u001b[1;33m.\u001b[0m\u001b[0misna\u001b[0m\u001b[1;33m(\u001b[0m\u001b[1;33m)\u001b[0m\u001b[1;33m]\u001b[0m\u001b[1;33m\u001b[0m\u001b[0m\n\u001b[0m",
      "\u001b[1;32mC:\\ProgramData\\Anaconda3\\lib\\site-packages\\pandas\\core\\generic.py\u001b[0m in \u001b[0;36m__getattr__\u001b[1;34m(self, name)\u001b[0m\n\u001b[0;32m   3079\u001b[0m             \u001b[1;32mif\u001b[0m \u001b[0mname\u001b[0m \u001b[1;32min\u001b[0m \u001b[0mself\u001b[0m\u001b[1;33m.\u001b[0m\u001b[0m_info_axis\u001b[0m\u001b[1;33m:\u001b[0m\u001b[1;33m\u001b[0m\u001b[0m\n\u001b[0;32m   3080\u001b[0m                 \u001b[1;32mreturn\u001b[0m \u001b[0mself\u001b[0m\u001b[1;33m[\u001b[0m\u001b[0mname\u001b[0m\u001b[1;33m]\u001b[0m\u001b[1;33m\u001b[0m\u001b[0m\n\u001b[1;32m-> 3081\u001b[1;33m             \u001b[1;32mreturn\u001b[0m \u001b[0mobject\u001b[0m\u001b[1;33m.\u001b[0m\u001b[0m__getattribute__\u001b[0m\u001b[1;33m(\u001b[0m\u001b[0mself\u001b[0m\u001b[1;33m,\u001b[0m \u001b[0mname\u001b[0m\u001b[1;33m)\u001b[0m\u001b[1;33m\u001b[0m\u001b[0m\n\u001b[0m\u001b[0;32m   3082\u001b[0m \u001b[1;33m\u001b[0m\u001b[0m\n\u001b[0;32m   3083\u001b[0m     \u001b[1;32mdef\u001b[0m \u001b[0m__setattr__\u001b[0m\u001b[1;33m(\u001b[0m\u001b[0mself\u001b[0m\u001b[1;33m,\u001b[0m \u001b[0mname\u001b[0m\u001b[1;33m,\u001b[0m \u001b[0mvalue\u001b[0m\u001b[1;33m)\u001b[0m\u001b[1;33m:\u001b[0m\u001b[1;33m\u001b[0m\u001b[0m\n",
      "\u001b[1;31mAttributeError\u001b[0m: 'Series' object has no attribute 'isna'"
     ]
    }
   ],
   "source": [
    "production[production['date2'].isna()]"
   ]
  },
  {
   "cell_type": "code",
   "execution_count": 137,
   "metadata": {
    "collapsed": true,
    "id": "S06xO0ejzz8l"
   },
   "outputs": [],
   "source": [
    "for date in [\"DMC\",\"DOB\"]:\n",
    "    production[date] = pd.to_datetime(production[date], errors = 'coerce')\n",
    "    production[date]=production[date].dt.year"
   ]
  },
  {
   "cell_type": "code",
   "execution_count": 138,
   "metadata": {
    "collapsed": true,
    "id": "5kGx4un7zz8l"
   },
   "outputs": [],
   "source": [
    "production.dropna(axis=0,inplace=True)\n",
    "production.drop('date2',axis=1, inplace=True)"
   ]
  },
  {
   "cell_type": "code",
   "execution_count": 139,
   "metadata": {
    "id": "76TCWep2zz8l"
   },
   "outputs": [
    {
     "data": {
      "text/plain": [
       "{'boxes': [<matplotlib.lines.Line2D at 0x1c5ebcaaef0>],\n",
       " 'caps': [<matplotlib.lines.Line2D at 0x1c5ebdcacf8>,\n",
       "  <matplotlib.lines.Line2D at 0x1c5eba2af98>],\n",
       " 'fliers': [<matplotlib.lines.Line2D at 0x1c5ebd13c50>],\n",
       " 'means': [],\n",
       " 'medians': [<matplotlib.lines.Line2D at 0x1c5eba2a940>],\n",
       " 'whiskers': [<matplotlib.lines.Line2D at 0x1c5ebdca630>,\n",
       "  <matplotlib.lines.Line2D at 0x1c5ebdcaf60>]}"
      ]
     },
     "execution_count": 139,
     "metadata": {},
     "output_type": "execute_result"
    }
   ],
   "source": [
    "plt.boxplot(production['DOB'])"
   ]
  },
  {
   "cell_type": "code",
   "execution_count": 140,
   "metadata": {
    "id": "c7aC8sXTzz8m"
   },
   "outputs": [
    {
     "data": {
      "text/plain": [
       "(9987, 9)"
      ]
     },
     "execution_count": 140,
     "metadata": {},
     "output_type": "execute_result"
    }
   ],
   "source": [
    "production.shape"
   ]
  },
  {
   "cell_type": "code",
   "execution_count": 141,
   "metadata": {
    "id": "FpsxlNHZzz8m"
   },
   "outputs": [],
   "source": [
    "production['DOB'] = production['DOB'].astype(int)"
   ]
  },
  {
   "cell_type": "markdown",
   "metadata": {
    "id": "RdaiySUEzz8m"
   },
   "source": [
    "# Create new columns"
   ]
  },
  {
   "cell_type": "code",
   "execution_count": 142,
   "metadata": {
    "id": "rdSdxlELzz8n"
   },
   "outputs": [],
   "source": [
    "production[\"age permis\"]=production[\"exercice\"]-production[\"DOB\"]\n",
    "production[\"ancieneté de véhicule\"]=production[\"exercice\"]-production[\"DMC\"]"
   ]
  },
  {
   "cell_type": "code",
   "execution_count": 198,
   "metadata": {
    "id": "-X7LWnyBzz8n"
   },
   "outputs": [],
   "source": [
    "production.drop([\"DMC\",\"DOB\"],axis=1, inplace=True)"
   ]
  },
  {
   "cell_type": "code",
   "execution_count": 199,
   "metadata": {
    "id": "2VC8jyWEzz8n"
   },
   "outputs": [
    {
     "data": {
      "text/plain": [
       "(9685, 9)"
      ]
     },
     "execution_count": 199,
     "metadata": {},
     "output_type": "execute_result"
    }
   ],
   "source": [
    "production.shape"
   ]
  },
  {
   "cell_type": "markdown",
   "metadata": {
    "id": "IyWDlWTbzz8o"
   },
   "source": [
    "Deleting negative values"
   ]
  },
  {
   "cell_type": "code",
   "execution_count": 200,
   "metadata": {
    "id": "b1CJaw56zz8o"
   },
   "outputs": [
    {
     "data": {
      "text/plain": [
       "numepolice                                     10\n",
       "exercice                                     2009\n",
       "Sexe                                            F\n",
       "Zone                      Laâyoune-Sakia El Hamra\n",
       "combustion                                 Diesel\n",
       "PF                                          10-14\n",
       "exposition                            4.87873e-05\n",
       "age permis                                     15\n",
       "ancieneté de véhicule                           0\n",
       "dtype: object"
      ]
     },
     "execution_count": 200,
     "metadata": {},
     "output_type": "execute_result"
    }
   ],
   "source": [
    "production.min()"
   ]
  },
  {
   "cell_type": "code",
   "execution_count": 201,
   "metadata": {
    "id": "OEWF3uzWuiyk"
   },
   "outputs": [
    {
     "data": {
      "text/html": [
       "<div>\n",
       "<style>\n",
       "    .dataframe thead tr:only-child th {\n",
       "        text-align: right;\n",
       "    }\n",
       "\n",
       "    .dataframe thead th {\n",
       "        text-align: left;\n",
       "    }\n",
       "\n",
       "    .dataframe tbody tr th {\n",
       "        vertical-align: top;\n",
       "    }\n",
       "</style>\n",
       "<table border=\"1\" class=\"dataframe\">\n",
       "  <thead>\n",
       "    <tr style=\"text-align: right;\">\n",
       "      <th></th>\n",
       "      <th>numepolice</th>\n",
       "      <th>exercice</th>\n",
       "      <th>exposition</th>\n",
       "      <th>age permis</th>\n",
       "      <th>ancieneté de véhicule</th>\n",
       "    </tr>\n",
       "  </thead>\n",
       "  <tbody>\n",
       "    <tr>\n",
       "      <th>count</th>\n",
       "      <td>9685.000000</td>\n",
       "      <td>9685.000000</td>\n",
       "      <td>9685.000000</td>\n",
       "      <td>9685.000000</td>\n",
       "      <td>9685.000000</td>\n",
       "    </tr>\n",
       "    <tr>\n",
       "      <th>mean</th>\n",
       "      <td>50243.163862</td>\n",
       "      <td>2013.415901</td>\n",
       "      <td>0.497137</td>\n",
       "      <td>49.289830</td>\n",
       "      <td>20.239855</td>\n",
       "    </tr>\n",
       "    <tr>\n",
       "      <th>std</th>\n",
       "      <td>28859.092161</td>\n",
       "      <td>2.872852</td>\n",
       "      <td>0.288628</td>\n",
       "      <td>17.605642</td>\n",
       "      <td>11.396336</td>\n",
       "    </tr>\n",
       "    <tr>\n",
       "      <th>min</th>\n",
       "      <td>10.000000</td>\n",
       "      <td>2009.000000</td>\n",
       "      <td>0.000049</td>\n",
       "      <td>15.000000</td>\n",
       "      <td>0.000000</td>\n",
       "    </tr>\n",
       "    <tr>\n",
       "      <th>25%</th>\n",
       "      <td>25044.000000</td>\n",
       "      <td>2011.000000</td>\n",
       "      <td>0.247441</td>\n",
       "      <td>34.000000</td>\n",
       "      <td>11.000000</td>\n",
       "    </tr>\n",
       "    <tr>\n",
       "      <th>50%</th>\n",
       "      <td>50364.000000</td>\n",
       "      <td>2014.000000</td>\n",
       "      <td>0.494651</td>\n",
       "      <td>49.000000</td>\n",
       "      <td>20.000000</td>\n",
       "    </tr>\n",
       "    <tr>\n",
       "      <th>75%</th>\n",
       "      <td>75573.000000</td>\n",
       "      <td>2016.000000</td>\n",
       "      <td>0.744306</td>\n",
       "      <td>64.000000</td>\n",
       "      <td>30.000000</td>\n",
       "    </tr>\n",
       "    <tr>\n",
       "      <th>max</th>\n",
       "      <td>99987.000000</td>\n",
       "      <td>2017.000000</td>\n",
       "      <td>0.999999</td>\n",
       "      <td>83.000000</td>\n",
       "      <td>43.000000</td>\n",
       "    </tr>\n",
       "  </tbody>\n",
       "</table>\n",
       "</div>"
      ],
      "text/plain": [
       "         numepolice     exercice   exposition   age permis  \\\n",
       "count   9685.000000  9685.000000  9685.000000  9685.000000   \n",
       "mean   50243.163862  2013.415901     0.497137    49.289830   \n",
       "std    28859.092161     2.872852     0.288628    17.605642   \n",
       "min       10.000000  2009.000000     0.000049    15.000000   \n",
       "25%    25044.000000  2011.000000     0.247441    34.000000   \n",
       "50%    50364.000000  2014.000000     0.494651    49.000000   \n",
       "75%    75573.000000  2016.000000     0.744306    64.000000   \n",
       "max    99987.000000  2017.000000     0.999999    83.000000   \n",
       "\n",
       "       ancieneté de véhicule  \n",
       "count            9685.000000  \n",
       "mean               20.239855  \n",
       "std                11.396336  \n",
       "min                 0.000000  \n",
       "25%                11.000000  \n",
       "50%                20.000000  \n",
       "75%                30.000000  \n",
       "max                43.000000  "
      ]
     },
     "execution_count": 201,
     "metadata": {},
     "output_type": "execute_result"
    }
   ],
   "source": [
    "production.describe()"
   ]
  },
  {
   "cell_type": "code",
   "execution_count": 202,
   "metadata": {
    "collapsed": true,
    "id": "WBj-ZRPnzz8o"
   },
   "outputs": [],
   "source": [
    "sinistre = sinistre[(sinistre[sinistre.columns] >= 0).all(axis=1)]"
   ]
  },
  {
   "cell_type": "code",
   "execution_count": 203,
   "metadata": {
    "id": "aD03VDNEzz8p"
   },
   "outputs": [],
   "source": [
    "production = production[(production[list(('ancieneté de véhicule','exposition'))] >= 0).all(axis=1)]"
   ]
  },
  {
   "cell_type": "code",
   "execution_count": 204,
   "metadata": {
    "id": "ILgpbhEBzz8p"
   },
   "outputs": [
    {
     "data": {
      "text/plain": [
       "0"
      ]
     },
     "execution_count": 204,
     "metadata": {},
     "output_type": "execute_result"
    }
   ],
   "source": [
    "l= []\n",
    "for i in list(sinistre['numepolice']):\n",
    "    if i not in list(production['numepolice']):\n",
    "         l.append(i)\n",
    "len(l)"
   ]
  },
  {
   "cell_type": "code",
   "execution_count": 205,
   "metadata": {
    "id": "lqtNh6c3zz8q"
   },
   "outputs": [
    {
     "data": {
      "text/html": [
       "<div>\n",
       "<style>\n",
       "    .dataframe thead tr:only-child th {\n",
       "        text-align: right;\n",
       "    }\n",
       "\n",
       "    .dataframe thead th {\n",
       "        text-align: left;\n",
       "    }\n",
       "\n",
       "    .dataframe tbody tr th {\n",
       "        vertical-align: top;\n",
       "    }\n",
       "</style>\n",
       "<table border=\"1\" class=\"dataframe\">\n",
       "  <thead>\n",
       "    <tr style=\"text-align: right;\">\n",
       "      <th></th>\n",
       "      <th>numepolice</th>\n",
       "      <th>exercice</th>\n",
       "      <th>n_sinistre</th>\n",
       "      <th>montantsinistre</th>\n",
       "    </tr>\n",
       "  </thead>\n",
       "  <tbody>\n",
       "    <tr>\n",
       "      <th>0</th>\n",
       "      <td>81901</td>\n",
       "      <td>2014</td>\n",
       "      <td>20122123</td>\n",
       "      <td>74562.071796</td>\n",
       "    </tr>\n",
       "    <tr>\n",
       "      <th>1</th>\n",
       "      <td>32189</td>\n",
       "      <td>2009</td>\n",
       "      <td>20122124</td>\n",
       "      <td>15406.714135</td>\n",
       "    </tr>\n",
       "    <tr>\n",
       "      <th>2</th>\n",
       "      <td>19126</td>\n",
       "      <td>2012</td>\n",
       "      <td>20122125</td>\n",
       "      <td>1414.462804</td>\n",
       "    </tr>\n",
       "    <tr>\n",
       "      <th>3</th>\n",
       "      <td>29557</td>\n",
       "      <td>2009</td>\n",
       "      <td>20122126</td>\n",
       "      <td>829.018140</td>\n",
       "    </tr>\n",
       "    <tr>\n",
       "      <th>4</th>\n",
       "      <td>32576</td>\n",
       "      <td>2011</td>\n",
       "      <td>20122127</td>\n",
       "      <td>32718.336369</td>\n",
       "    </tr>\n",
       "    <tr>\n",
       "      <th>5</th>\n",
       "      <td>67716</td>\n",
       "      <td>2011</td>\n",
       "      <td>20122128</td>\n",
       "      <td>1279.714272</td>\n",
       "    </tr>\n",
       "    <tr>\n",
       "      <th>6</th>\n",
       "      <td>67716</td>\n",
       "      <td>2011</td>\n",
       "      <td>20122129</td>\n",
       "      <td>785.947622</td>\n",
       "    </tr>\n",
       "    <tr>\n",
       "      <th>7</th>\n",
       "      <td>67716</td>\n",
       "      <td>2011</td>\n",
       "      <td>20122130</td>\n",
       "      <td>1447.896019</td>\n",
       "    </tr>\n",
       "    <tr>\n",
       "      <th>8</th>\n",
       "      <td>44974</td>\n",
       "      <td>2014</td>\n",
       "      <td>20122131</td>\n",
       "      <td>506.098427</td>\n",
       "    </tr>\n",
       "    <tr>\n",
       "      <th>9</th>\n",
       "      <td>63741</td>\n",
       "      <td>2011</td>\n",
       "      <td>20122132</td>\n",
       "      <td>2110.427469</td>\n",
       "    </tr>\n",
       "    <tr>\n",
       "      <th>10</th>\n",
       "      <td>34174</td>\n",
       "      <td>2016</td>\n",
       "      <td>20122133</td>\n",
       "      <td>60859.784099</td>\n",
       "    </tr>\n",
       "    <tr>\n",
       "      <th>11</th>\n",
       "      <td>33366</td>\n",
       "      <td>2014</td>\n",
       "      <td>20122134</td>\n",
       "      <td>2229.509457</td>\n",
       "    </tr>\n",
       "    <tr>\n",
       "      <th>12</th>\n",
       "      <td>93820</td>\n",
       "      <td>2014</td>\n",
       "      <td>20122135</td>\n",
       "      <td>829.231393</td>\n",
       "    </tr>\n",
       "    <tr>\n",
       "      <th>13</th>\n",
       "      <td>93820</td>\n",
       "      <td>2014</td>\n",
       "      <td>20122136</td>\n",
       "      <td>16759.106021</td>\n",
       "    </tr>\n",
       "    <tr>\n",
       "      <th>14</th>\n",
       "      <td>93820</td>\n",
       "      <td>2014</td>\n",
       "      <td>20122137</td>\n",
       "      <td>1098.363563</td>\n",
       "    </tr>\n",
       "    <tr>\n",
       "      <th>15</th>\n",
       "      <td>29857</td>\n",
       "      <td>2014</td>\n",
       "      <td>20122138</td>\n",
       "      <td>1142.125558</td>\n",
       "    </tr>\n",
       "    <tr>\n",
       "      <th>16</th>\n",
       "      <td>29857</td>\n",
       "      <td>2014</td>\n",
       "      <td>20122139</td>\n",
       "      <td>28860.697625</td>\n",
       "    </tr>\n",
       "    <tr>\n",
       "      <th>17</th>\n",
       "      <td>29857</td>\n",
       "      <td>2014</td>\n",
       "      <td>20122140</td>\n",
       "      <td>23792.110029</td>\n",
       "    </tr>\n",
       "    <tr>\n",
       "      <th>18</th>\n",
       "      <td>93950</td>\n",
       "      <td>2016</td>\n",
       "      <td>20122141</td>\n",
       "      <td>2813.609408</td>\n",
       "    </tr>\n",
       "    <tr>\n",
       "      <th>19</th>\n",
       "      <td>71158</td>\n",
       "      <td>2009</td>\n",
       "      <td>20122142</td>\n",
       "      <td>1066.571781</td>\n",
       "    </tr>\n",
       "    <tr>\n",
       "      <th>20</th>\n",
       "      <td>71158</td>\n",
       "      <td>2009</td>\n",
       "      <td>20122143</td>\n",
       "      <td>17609.581332</td>\n",
       "    </tr>\n",
       "    <tr>\n",
       "      <th>21</th>\n",
       "      <td>71158</td>\n",
       "      <td>2009</td>\n",
       "      <td>20122144</td>\n",
       "      <td>11110.237794</td>\n",
       "    </tr>\n",
       "    <tr>\n",
       "      <th>22</th>\n",
       "      <td>72952</td>\n",
       "      <td>2012</td>\n",
       "      <td>20122145</td>\n",
       "      <td>565.204391</td>\n",
       "    </tr>\n",
       "    <tr>\n",
       "      <th>23</th>\n",
       "      <td>72952</td>\n",
       "      <td>2012</td>\n",
       "      <td>20122146</td>\n",
       "      <td>1269.161458</td>\n",
       "    </tr>\n",
       "    <tr>\n",
       "      <th>24</th>\n",
       "      <td>72952</td>\n",
       "      <td>2012</td>\n",
       "      <td>20122147</td>\n",
       "      <td>28575.379083</td>\n",
       "    </tr>\n",
       "    <tr>\n",
       "      <th>25</th>\n",
       "      <td>72952</td>\n",
       "      <td>2012</td>\n",
       "      <td>20122148</td>\n",
       "      <td>11052.381071</td>\n",
       "    </tr>\n",
       "    <tr>\n",
       "      <th>26</th>\n",
       "      <td>20577</td>\n",
       "      <td>2016</td>\n",
       "      <td>20122149</td>\n",
       "      <td>908.087693</td>\n",
       "    </tr>\n",
       "    <tr>\n",
       "      <th>27</th>\n",
       "      <td>62872</td>\n",
       "      <td>2012</td>\n",
       "      <td>20122150</td>\n",
       "      <td>18153.498042</td>\n",
       "    </tr>\n",
       "    <tr>\n",
       "      <th>28</th>\n",
       "      <td>69391</td>\n",
       "      <td>2016</td>\n",
       "      <td>20122151</td>\n",
       "      <td>1424.789271</td>\n",
       "    </tr>\n",
       "    <tr>\n",
       "      <th>29</th>\n",
       "      <td>69391</td>\n",
       "      <td>2016</td>\n",
       "      <td>20122152</td>\n",
       "      <td>1177.439889</td>\n",
       "    </tr>\n",
       "    <tr>\n",
       "      <th>...</th>\n",
       "      <td>...</td>\n",
       "      <td>...</td>\n",
       "      <td>...</td>\n",
       "      <td>...</td>\n",
       "    </tr>\n",
       "    <tr>\n",
       "      <th>7087</th>\n",
       "      <td>91537</td>\n",
       "      <td>2016</td>\n",
       "      <td>20129210</td>\n",
       "      <td>1082.421812</td>\n",
       "    </tr>\n",
       "    <tr>\n",
       "      <th>7088</th>\n",
       "      <td>73424</td>\n",
       "      <td>2017</td>\n",
       "      <td>20129211</td>\n",
       "      <td>764.899886</td>\n",
       "    </tr>\n",
       "    <tr>\n",
       "      <th>7089</th>\n",
       "      <td>53762</td>\n",
       "      <td>2012</td>\n",
       "      <td>20129212</td>\n",
       "      <td>2683.426964</td>\n",
       "    </tr>\n",
       "    <tr>\n",
       "      <th>7090</th>\n",
       "      <td>47938</td>\n",
       "      <td>2014</td>\n",
       "      <td>20129213</td>\n",
       "      <td>5263.376345</td>\n",
       "    </tr>\n",
       "    <tr>\n",
       "      <th>7091</th>\n",
       "      <td>77442</td>\n",
       "      <td>2016</td>\n",
       "      <td>20129214</td>\n",
       "      <td>362.003854</td>\n",
       "    </tr>\n",
       "    <tr>\n",
       "      <th>7092</th>\n",
       "      <td>50175</td>\n",
       "      <td>2012</td>\n",
       "      <td>20129215</td>\n",
       "      <td>14169.276547</td>\n",
       "    </tr>\n",
       "    <tr>\n",
       "      <th>7093</th>\n",
       "      <td>50175</td>\n",
       "      <td>2012</td>\n",
       "      <td>20129216</td>\n",
       "      <td>633.404946</td>\n",
       "    </tr>\n",
       "    <tr>\n",
       "      <th>7094</th>\n",
       "      <td>50175</td>\n",
       "      <td>2012</td>\n",
       "      <td>20129217</td>\n",
       "      <td>2562.916203</td>\n",
       "    </tr>\n",
       "    <tr>\n",
       "      <th>7095</th>\n",
       "      <td>50175</td>\n",
       "      <td>2012</td>\n",
       "      <td>20129218</td>\n",
       "      <td>14639.377157</td>\n",
       "    </tr>\n",
       "    <tr>\n",
       "      <th>7096</th>\n",
       "      <td>13347</td>\n",
       "      <td>2009</td>\n",
       "      <td>20129219</td>\n",
       "      <td>15806.772533</td>\n",
       "    </tr>\n",
       "    <tr>\n",
       "      <th>7097</th>\n",
       "      <td>13347</td>\n",
       "      <td>2009</td>\n",
       "      <td>20129220</td>\n",
       "      <td>56709.699147</td>\n",
       "    </tr>\n",
       "    <tr>\n",
       "      <th>7098</th>\n",
       "      <td>67788</td>\n",
       "      <td>2015</td>\n",
       "      <td>20129221</td>\n",
       "      <td>20610.477373</td>\n",
       "    </tr>\n",
       "    <tr>\n",
       "      <th>7099</th>\n",
       "      <td>28117</td>\n",
       "      <td>2011</td>\n",
       "      <td>20129222</td>\n",
       "      <td>15868.846799</td>\n",
       "    </tr>\n",
       "    <tr>\n",
       "      <th>7100</th>\n",
       "      <td>28117</td>\n",
       "      <td>2011</td>\n",
       "      <td>20129223</td>\n",
       "      <td>11904.776363</td>\n",
       "    </tr>\n",
       "    <tr>\n",
       "      <th>7101</th>\n",
       "      <td>62778</td>\n",
       "      <td>2015</td>\n",
       "      <td>20129224</td>\n",
       "      <td>1788.930602</td>\n",
       "    </tr>\n",
       "    <tr>\n",
       "      <th>7106</th>\n",
       "      <td>38068</td>\n",
       "      <td>2016</td>\n",
       "      <td>20129229</td>\n",
       "      <td>893.047341</td>\n",
       "    </tr>\n",
       "    <tr>\n",
       "      <th>7107</th>\n",
       "      <td>1386</td>\n",
       "      <td>2017</td>\n",
       "      <td>20129230</td>\n",
       "      <td>26223.522476</td>\n",
       "    </tr>\n",
       "    <tr>\n",
       "      <th>7108</th>\n",
       "      <td>38627</td>\n",
       "      <td>2009</td>\n",
       "      <td>20129231</td>\n",
       "      <td>16852.150796</td>\n",
       "    </tr>\n",
       "    <tr>\n",
       "      <th>7109</th>\n",
       "      <td>38627</td>\n",
       "      <td>2009</td>\n",
       "      <td>20129232</td>\n",
       "      <td>16105.177043</td>\n",
       "    </tr>\n",
       "    <tr>\n",
       "      <th>7110</th>\n",
       "      <td>1134</td>\n",
       "      <td>2014</td>\n",
       "      <td>20129233</td>\n",
       "      <td>1342.386954</td>\n",
       "    </tr>\n",
       "    <tr>\n",
       "      <th>7111</th>\n",
       "      <td>18656</td>\n",
       "      <td>2015</td>\n",
       "      <td>20129234</td>\n",
       "      <td>575.506015</td>\n",
       "    </tr>\n",
       "    <tr>\n",
       "      <th>7112</th>\n",
       "      <td>53807</td>\n",
       "      <td>2014</td>\n",
       "      <td>20129235</td>\n",
       "      <td>1500.596903</td>\n",
       "    </tr>\n",
       "    <tr>\n",
       "      <th>7113</th>\n",
       "      <td>40801</td>\n",
       "      <td>2017</td>\n",
       "      <td>20129236</td>\n",
       "      <td>2444.735722</td>\n",
       "    </tr>\n",
       "    <tr>\n",
       "      <th>7114</th>\n",
       "      <td>19947</td>\n",
       "      <td>2012</td>\n",
       "      <td>20129237</td>\n",
       "      <td>34537.249597</td>\n",
       "    </tr>\n",
       "    <tr>\n",
       "      <th>7115</th>\n",
       "      <td>19947</td>\n",
       "      <td>2012</td>\n",
       "      <td>20129238</td>\n",
       "      <td>35911.678908</td>\n",
       "    </tr>\n",
       "    <tr>\n",
       "      <th>7116</th>\n",
       "      <td>19947</td>\n",
       "      <td>2012</td>\n",
       "      <td>20129239</td>\n",
       "      <td>397.593577</td>\n",
       "    </tr>\n",
       "    <tr>\n",
       "      <th>7117</th>\n",
       "      <td>92887</td>\n",
       "      <td>2009</td>\n",
       "      <td>20129240</td>\n",
       "      <td>27623.865711</td>\n",
       "    </tr>\n",
       "    <tr>\n",
       "      <th>7118</th>\n",
       "      <td>8750</td>\n",
       "      <td>2014</td>\n",
       "      <td>20129241</td>\n",
       "      <td>19577.193889</td>\n",
       "    </tr>\n",
       "    <tr>\n",
       "      <th>7119</th>\n",
       "      <td>92945</td>\n",
       "      <td>2016</td>\n",
       "      <td>20129242</td>\n",
       "      <td>1378.129647</td>\n",
       "    </tr>\n",
       "    <tr>\n",
       "      <th>7120</th>\n",
       "      <td>92945</td>\n",
       "      <td>2016</td>\n",
       "      <td>20129243</td>\n",
       "      <td>1135.790053</td>\n",
       "    </tr>\n",
       "  </tbody>\n",
       "</table>\n",
       "<p>6895 rows × 4 columns</p>\n",
       "</div>"
      ],
      "text/plain": [
       "      numepolice  exercice  n_sinistre  montantsinistre\n",
       "0          81901      2014    20122123     74562.071796\n",
       "1          32189      2009    20122124     15406.714135\n",
       "2          19126      2012    20122125      1414.462804\n",
       "3          29557      2009    20122126       829.018140\n",
       "4          32576      2011    20122127     32718.336369\n",
       "5          67716      2011    20122128      1279.714272\n",
       "6          67716      2011    20122129       785.947622\n",
       "7          67716      2011    20122130      1447.896019\n",
       "8          44974      2014    20122131       506.098427\n",
       "9          63741      2011    20122132      2110.427469\n",
       "10         34174      2016    20122133     60859.784099\n",
       "11         33366      2014    20122134      2229.509457\n",
       "12         93820      2014    20122135       829.231393\n",
       "13         93820      2014    20122136     16759.106021\n",
       "14         93820      2014    20122137      1098.363563\n",
       "15         29857      2014    20122138      1142.125558\n",
       "16         29857      2014    20122139     28860.697625\n",
       "17         29857      2014    20122140     23792.110029\n",
       "18         93950      2016    20122141      2813.609408\n",
       "19         71158      2009    20122142      1066.571781\n",
       "20         71158      2009    20122143     17609.581332\n",
       "21         71158      2009    20122144     11110.237794\n",
       "22         72952      2012    20122145       565.204391\n",
       "23         72952      2012    20122146      1269.161458\n",
       "24         72952      2012    20122147     28575.379083\n",
       "25         72952      2012    20122148     11052.381071\n",
       "26         20577      2016    20122149       908.087693\n",
       "27         62872      2012    20122150     18153.498042\n",
       "28         69391      2016    20122151      1424.789271\n",
       "29         69391      2016    20122152      1177.439889\n",
       "...          ...       ...         ...              ...\n",
       "7087       91537      2016    20129210      1082.421812\n",
       "7088       73424      2017    20129211       764.899886\n",
       "7089       53762      2012    20129212      2683.426964\n",
       "7090       47938      2014    20129213      5263.376345\n",
       "7091       77442      2016    20129214       362.003854\n",
       "7092       50175      2012    20129215     14169.276547\n",
       "7093       50175      2012    20129216       633.404946\n",
       "7094       50175      2012    20129217      2562.916203\n",
       "7095       50175      2012    20129218     14639.377157\n",
       "7096       13347      2009    20129219     15806.772533\n",
       "7097       13347      2009    20129220     56709.699147\n",
       "7098       67788      2015    20129221     20610.477373\n",
       "7099       28117      2011    20129222     15868.846799\n",
       "7100       28117      2011    20129223     11904.776363\n",
       "7101       62778      2015    20129224      1788.930602\n",
       "7106       38068      2016    20129229       893.047341\n",
       "7107        1386      2017    20129230     26223.522476\n",
       "7108       38627      2009    20129231     16852.150796\n",
       "7109       38627      2009    20129232     16105.177043\n",
       "7110        1134      2014    20129233      1342.386954\n",
       "7111       18656      2015    20129234       575.506015\n",
       "7112       53807      2014    20129235      1500.596903\n",
       "7113       40801      2017    20129236      2444.735722\n",
       "7114       19947      2012    20129237     34537.249597\n",
       "7115       19947      2012    20129238     35911.678908\n",
       "7116       19947      2012    20129239       397.593577\n",
       "7117       92887      2009    20129240     27623.865711\n",
       "7118        8750      2014    20129241     19577.193889\n",
       "7119       92945      2016    20129242      1378.129647\n",
       "7120       92945      2016    20129243      1135.790053\n",
       "\n",
       "[6895 rows x 4 columns]"
      ]
     },
     "execution_count": 205,
     "metadata": {},
     "output_type": "execute_result"
    }
   ],
   "source": [
    "sinistre"
   ]
  },
  {
   "cell_type": "code",
   "execution_count": 206,
   "metadata": {
    "id": "xJYUHT2hzz8q"
   },
   "outputs": [
    {
     "data": {
      "text/plain": [
       "0"
      ]
     },
     "execution_count": 206,
     "metadata": {},
     "output_type": "execute_result"
    }
   ],
   "source": [
    "m= []\n",
    "for i in list(sinistre['exercice']):\n",
    "    if i not in list(production['exercice']):\n",
    "         m.append(i)\n",
    "len(m)"
   ]
  },
  {
   "cell_type": "code",
   "execution_count": 207,
   "metadata": {
    "collapsed": true,
    "id": "lQidnovXzz8r"
   },
   "outputs": [],
   "source": [
    "for i in l:\n",
    "    sinistre.drop(sinistre.loc[sinistre['numepolice']==i].index, inplace=True)"
   ]
  },
  {
   "cell_type": "code",
   "execution_count": 208,
   "metadata": {
    "id": "iAnwPlgbzz8s"
   },
   "outputs": [
    {
     "data": {
      "text/plain": [
       "(6895, 4)"
      ]
     },
     "execution_count": 208,
     "metadata": {},
     "output_type": "execute_result"
    }
   ],
   "source": [
    "sinistre.shape"
   ]
  },
  {
   "cell_type": "code",
   "execution_count": 209,
   "metadata": {
    "id": "Z42nGrmVzz8r"
   },
   "outputs": [
    {
     "data": {
      "text/plain": [
       "(6895, 4)"
      ]
     },
     "execution_count": 209,
     "metadata": {},
     "output_type": "execute_result"
    }
   ],
   "source": [
    "sinistre.shape"
   ]
  },
  {
   "cell_type": "markdown",
   "metadata": {
    "id": "aFEyVlw3zz8s"
   },
   "source": [
    "# Analyse descriptive"
   ]
  },
  {
   "cell_type": "code",
   "execution_count": 210,
   "metadata": {
    "id": "3HV0tUP1zz8t",
    "scrolled": true
   },
   "outputs": [
    {
     "data": {
      "text/plain": [
       "numepolice               0\n",
       "exercice                 0\n",
       "Sexe                     0\n",
       "Zone                     0\n",
       "combustion               0\n",
       "PF                       0\n",
       "exposition               0\n",
       "age permis               0\n",
       "ancieneté de véhicule    0\n",
       "dtype: int64"
      ]
     },
     "execution_count": 210,
     "metadata": {},
     "output_type": "execute_result"
    }
   ],
   "source": [
    "production.isnull().sum()"
   ]
  },
  {
   "cell_type": "code",
   "execution_count": 211,
   "metadata": {
    "id": "wMTxTRJ_zz8t"
   },
   "outputs": [
    {
     "data": {
      "text/plain": [
       "numepolice         0\n",
       "exercice           0\n",
       "n_sinistre         0\n",
       "montantsinistre    0\n",
       "dtype: int64"
      ]
     },
     "execution_count": 211,
     "metadata": {},
     "output_type": "execute_result"
    }
   ],
   "source": [
    "sinistre.isnull().sum()"
   ]
  },
  {
   "cell_type": "markdown",
   "metadata": {
    "id": "RFuccFRfzz8u"
   },
   "source": [
    "**combustion**"
   ]
  },
  {
   "cell_type": "code",
   "execution_count": 212,
   "metadata": {
    "id": "MUALL-gbzz8u"
   },
   "outputs": [
    {
     "data": {
      "text/plain": [
       "array(['Essence', 'Diesel'], dtype=object)"
      ]
     },
     "execution_count": 212,
     "metadata": {},
     "output_type": "execute_result"
    }
   ],
   "source": [
    "production['combustion'].unique()"
   ]
  },
  {
   "cell_type": "code",
   "execution_count": 213,
   "metadata": {
    "id": "N5hL7xtezz8v"
   },
   "outputs": [
    {
     "data": {
      "text/plain": [
       "combustion\n",
       "Diesel     6292\n",
       "Essence    3393\n",
       "dtype: int64"
      ]
     },
     "execution_count": 213,
     "metadata": {},
     "output_type": "execute_result"
    }
   ],
   "source": [
    "combustion=production.groupby(by=\"combustion\").size()\n",
    "combustion"
   ]
  },
  {
   "cell_type": "code",
   "execution_count": 214,
   "metadata": {
    "id": "dXkPhZGDzz8v"
   },
   "outputs": [
    {
     "data": {
      "text/plain": [
       "<matplotlib.axes._subplots.AxesSubplot at 0x1c5eb430f28>"
      ]
     },
     "execution_count": 214,
     "metadata": {},
     "output_type": "execute_result"
    }
   ],
   "source": [
    "combustion.plot.bar()"
   ]
  },
  {
   "cell_type": "markdown",
   "metadata": {
    "id": "GOevNO3Jzz8w"
   },
   "source": [
    "**puissance_fiscale**"
   ]
  },
  {
   "cell_type": "code",
   "execution_count": 215,
   "metadata": {
    "id": "y9_0w9Ehzz8w"
   },
   "outputs": [
    {
     "data": {
      "text/plain": [
       "array(['<8', '8-10', '10-14', '>=14'], dtype=object)"
      ]
     },
     "execution_count": 215,
     "metadata": {},
     "output_type": "execute_result"
    }
   ],
   "source": [
    "production['PF'].unique()"
   ]
  },
  {
   "cell_type": "code",
   "execution_count": 216,
   "metadata": {
    "id": "YWz-W5BGzz8x",
    "scrolled": true
   },
   "outputs": [
    {
     "data": {
      "text/plain": [
       "PF\n",
       "10-14    1931\n",
       "8-10     2913\n",
       "<8       3393\n",
       ">=14     1448\n",
       "dtype: int64"
      ]
     },
     "execution_count": 216,
     "metadata": {},
     "output_type": "execute_result"
    }
   ],
   "source": [
    "puissance_fiscale=production.groupby(by=\"PF\").size()\n",
    "puissance_fiscale"
   ]
  },
  {
   "cell_type": "code",
   "execution_count": 217,
   "metadata": {
    "id": "NAk9q2ZEzz8x"
   },
   "outputs": [
    {
     "data": {
      "text/plain": [
       "<matplotlib.axes._subplots.AxesSubplot at 0x1c5eb430f28>"
      ]
     },
     "execution_count": 217,
     "metadata": {},
     "output_type": "execute_result"
    }
   ],
   "source": [
    "puissance_fiscale.plot.bar()"
   ]
  },
  {
   "cell_type": "markdown",
   "metadata": {
    "id": "n-bn7pp-zz8x"
   },
   "source": [
    "**SEXE**"
   ]
  },
  {
   "cell_type": "code",
   "execution_count": 218,
   "metadata": {
    "id": "f5Fx-hvmzz8y"
   },
   "outputs": [
    {
     "data": {
      "text/plain": [
       "array(['M', 'F'], dtype=object)"
      ]
     },
     "execution_count": 218,
     "metadata": {},
     "output_type": "execute_result"
    }
   ],
   "source": [
    "production['Sexe'].unique()"
   ]
  },
  {
   "cell_type": "code",
   "execution_count": 219,
   "metadata": {
    "id": "kJKUBvJezz8y"
   },
   "outputs": [
    {
     "data": {
      "text/plain": [
       "Sexe\n",
       "F    3867\n",
       "M    5818\n",
       "dtype: int64"
      ]
     },
     "execution_count": 219,
     "metadata": {},
     "output_type": "execute_result"
    }
   ],
   "source": [
    "SEXE=production.groupby(by=\"Sexe\").size()\n",
    "SEXE"
   ]
  },
  {
   "cell_type": "code",
   "execution_count": 220,
   "metadata": {
    "id": "ulYBRk6Hzz8y"
   },
   "outputs": [
    {
     "data": {
      "text/plain": [
       "<matplotlib.axes._subplots.AxesSubplot at 0x1c5eb430f28>"
      ]
     },
     "execution_count": 220,
     "metadata": {},
     "output_type": "execute_result"
    }
   ],
   "source": [
    "SEXE.plot.bar()"
   ]
  },
  {
   "cell_type": "markdown",
   "metadata": {
    "id": "qrqcjzRAzz8z"
   },
   "source": [
    "**Exercice**"
   ]
  },
  {
   "cell_type": "code",
   "execution_count": 221,
   "metadata": {
    "id": "9ZN93X3Yzz8z"
   },
   "outputs": [
    {
     "data": {
      "text/plain": [
       "array([2014, 2009, 2012, 2017, 2016, 2011, 2015], dtype=int64)"
      ]
     },
     "execution_count": 221,
     "metadata": {},
     "output_type": "execute_result"
    }
   ],
   "source": [
    "production['exercice'].unique()"
   ]
  },
  {
   "cell_type": "code",
   "execution_count": 222,
   "metadata": {
    "id": "t5TQNKTnzz8z"
   },
   "outputs": [
    {
     "data": {
      "text/plain": [
       "exercice\n",
       "2009    1967\n",
       "2011     955\n",
       "2012     972\n",
       "2014    1497\n",
       "2015    1200\n",
       "2016    1495\n",
       "2017    1599\n",
       "dtype: int64"
      ]
     },
     "execution_count": 222,
     "metadata": {},
     "output_type": "execute_result"
    }
   ],
   "source": [
    "Exercice=production.groupby(by=\"exercice\").size()\n",
    "Exercice"
   ]
  },
  {
   "cell_type": "code",
   "execution_count": 223,
   "metadata": {
    "id": "nWF9HvcYzz80"
   },
   "outputs": [
    {
     "data": {
      "text/plain": [
       "<matplotlib.axes._subplots.AxesSubplot at 0x1c5eb430f28>"
      ]
     },
     "execution_count": 223,
     "metadata": {},
     "output_type": "execute_result"
    }
   ],
   "source": [
    "Exercice.plot.bar()"
   ]
  },
  {
   "cell_type": "markdown",
   "metadata": {
    "id": "jouxSWuszz80"
   },
   "source": [
    "Date obtention du permis."
   ]
  },
  {
   "cell_type": "markdown",
   "metadata": {
    "id": "TQdTZbrozz80"
   },
   "source": [
    "**Age**"
   ]
  },
  {
   "cell_type": "code",
   "execution_count": 224,
   "metadata": {
    "id": "ozKjSJ_Rzz80"
   },
   "outputs": [
    {
     "data": {
      "text/plain": [
       "array([31, 19, 57, 50, 33, 69, 48, 63, 54, 28, 53, 36, 52, 30, 68, 81, 23,\n",
       "       41, 64, 71, 70, 78, 45, 73, 55, 43, 74, 58, 26, 32, 46, 49, 77, 82,\n",
       "       20, 56, 35, 25, 67, 44, 59, 65, 42, 75, 27, 29, 34, 62, 24, 22, 21,\n",
       "       39, 18, 51, 40, 60, 72, 79, 47, 80, 38, 37, 17, 66, 61, 83, 76, 16,\n",
       "       15], dtype=int64)"
      ]
     },
     "execution_count": 224,
     "metadata": {},
     "output_type": "execute_result"
    }
   ],
   "source": [
    "production['age permis'].unique()"
   ]
  },
  {
   "cell_type": "code",
   "execution_count": 225,
   "metadata": {
    "id": "4p_b2KIizz81"
   },
   "outputs": [
    {
     "data": {
      "text/plain": [
       "age permis\n",
       "15      7\n",
       "16     44\n",
       "17     26\n",
       "18     62\n",
       "19     75\n",
       "20     64\n",
       "21     79\n",
       "22    130\n",
       "23    161\n",
       "24    166\n",
       "25    174\n",
       "26    164\n",
       "27    151\n",
       "28    157\n",
       "29    184\n",
       "30    173\n",
       "31    170\n",
       "32    163\n",
       "33    168\n",
       "34    147\n",
       "35    160\n",
       "36    175\n",
       "37    166\n",
       "38    164\n",
       "39    173\n",
       "40    150\n",
       "41    204\n",
       "42    124\n",
       "43    162\n",
       "44    137\n",
       "     ... \n",
       "54    172\n",
       "55    167\n",
       "56    173\n",
       "57    158\n",
       "58    158\n",
       "59    167\n",
       "60    160\n",
       "61    149\n",
       "62    140\n",
       "63    163\n",
       "64    132\n",
       "65    166\n",
       "66    148\n",
       "67    146\n",
       "68    157\n",
       "69    164\n",
       "70    157\n",
       "71    177\n",
       "72    176\n",
       "73    158\n",
       "74    153\n",
       "75    151\n",
       "76    126\n",
       "77    129\n",
       "78    102\n",
       "79     78\n",
       "80    100\n",
       "81     53\n",
       "82     45\n",
       "83     25\n",
       "Length: 69, dtype: int64"
      ]
     },
     "execution_count": 225,
     "metadata": {},
     "output_type": "execute_result"
    }
   ],
   "source": [
    "age=production.groupby(by=\"age permis\").size()\n",
    "age"
   ]
  },
  {
   "cell_type": "code",
   "execution_count": 226,
   "metadata": {
    "id": "IQ97JBEMzz81"
   },
   "outputs": [
    {
     "data": {
      "text/plain": [
       "<matplotlib.axes._subplots.AxesSubplot at 0x1c5eb430f28>"
      ]
     },
     "execution_count": 226,
     "metadata": {},
     "output_type": "execute_result"
    }
   ],
   "source": [
    "age.plot.bar()"
   ]
  },
  {
   "cell_type": "markdown",
   "metadata": {
    "id": "_xiQ3MGhzz81"
   },
   "source": [
    "**ancieneté de véhicule**"
   ]
  },
  {
   "cell_type": "code",
   "execution_count": 227,
   "metadata": {
    "id": "TyV16tsKzz82"
   },
   "outputs": [
    {
     "data": {
      "text/plain": [
       "array([33, 35, 15, 20, 22, 12, 23, 25, 16, 30, 34, 13, 26, 32, 19, 14,  1,\n",
       "       10, 17, 37,  4,  8, 11, 24, 21, 39,  0, 18,  3, 27,  5,  6, 42,  2,\n",
       "        7, 43, 28, 40, 41, 36,  9, 31, 29, 38], dtype=int64)"
      ]
     },
     "execution_count": 227,
     "metadata": {},
     "output_type": "execute_result"
    }
   ],
   "source": [
    "production['ancieneté de véhicule'].unique()"
   ]
  },
  {
   "cell_type": "code",
   "execution_count": 228,
   "metadata": {
    "id": "7yyIUDdIzz82"
   },
   "outputs": [
    {
     "data": {
      "text/plain": [
       "ancieneté de véhicule\n",
       "0     126\n",
       "1     154\n",
       "2     178\n",
       "3     215\n",
       "4     217\n",
       "5     250\n",
       "6     285\n",
       "7     238\n",
       "8     248\n",
       "9     257\n",
       "10    253\n",
       "11    259\n",
       "12    250\n",
       "13    249\n",
       "14    232\n",
       "15    262\n",
       "16    240\n",
       "17    249\n",
       "18    285\n",
       "19    248\n",
       "20    222\n",
       "21    260\n",
       "22    285\n",
       "23    261\n",
       "24    249\n",
       "25    236\n",
       "26    240\n",
       "27    239\n",
       "28    250\n",
       "29    248\n",
       "30    218\n",
       "31    253\n",
       "32    273\n",
       "33    252\n",
       "34    258\n",
       "35    241\n",
       "36    187\n",
       "37    186\n",
       "38    141\n",
       "39    150\n",
       "40    156\n",
       "41     79\n",
       "42     67\n",
       "43     39\n",
       "dtype: int64"
      ]
     },
     "execution_count": 228,
     "metadata": {},
     "output_type": "execute_result"
    }
   ],
   "source": [
    "véhicule=production.groupby(by=\"ancieneté de véhicule\").size()\n",
    "véhicule"
   ]
  },
  {
   "cell_type": "code",
   "execution_count": 229,
   "metadata": {
    "id": "KhtGEO70zz82"
   },
   "outputs": [
    {
     "data": {
      "text/plain": [
       "<matplotlib.axes._subplots.AxesSubplot at 0x1c5eb430f28>"
      ]
     },
     "execution_count": 229,
     "metadata": {},
     "output_type": "execute_result"
    }
   ],
   "source": [
    "véhicule.plot.bar()"
   ]
  },
  {
   "cell_type": "markdown",
   "metadata": {
    "id": "-STGaULOzz83"
   },
   "source": [
    "# Pour les sinistres"
   ]
  },
  {
   "cell_type": "markdown",
   "metadata": {
    "id": "1wza2JtSzz83"
   },
   "source": [
    "**exercice**"
   ]
  },
  {
   "cell_type": "code",
   "execution_count": 230,
   "metadata": {
    "id": "RhXZbkXdzz83"
   },
   "outputs": [
    {
     "data": {
      "text/plain": [
       "array([2014, 2009, 2012, 2011, 2016, 2017, 2015], dtype=int64)"
      ]
     },
     "execution_count": 230,
     "metadata": {},
     "output_type": "execute_result"
    }
   ],
   "source": [
    "sinistre['exercice'].unique()"
   ]
  },
  {
   "cell_type": "code",
   "execution_count": 231,
   "metadata": {
    "id": "1msXkrZtzz83"
   },
   "outputs": [
    {
     "data": {
      "text/plain": [
       "exercice\n",
       "2009    1384\n",
       "2011     707\n",
       "2012     736\n",
       "2014    1037\n",
       "2015     839\n",
       "2016    1010\n",
       "2017    1182\n",
       "dtype: int64"
      ]
     },
     "execution_count": 231,
     "metadata": {},
     "output_type": "execute_result"
    }
   ],
   "source": [
    "exercicesinistre=sinistre.groupby(by=\"exercice\").size()\n",
    "exercicesinistre"
   ]
  },
  {
   "cell_type": "code",
   "execution_count": 232,
   "metadata": {
    "id": "pYbZS1R6zz84"
   },
   "outputs": [
    {
     "data": {
      "text/plain": [
       "<matplotlib.axes._subplots.AxesSubplot at 0x1c5eb430f28>"
      ]
     },
     "execution_count": 232,
     "metadata": {},
     "output_type": "execute_result"
    }
   ],
   "source": [
    "exercicesinistre.plot.bar()"
   ]
  },
  {
   "cell_type": "markdown",
   "metadata": {
    "id": "4cRoFeJEzz84"
   },
   "source": [
    "**Charge**"
   ]
  },
  {
   "cell_type": "code",
   "execution_count": 233,
   "metadata": {
    "id": "Juy6oehvzz84"
   },
   "outputs": [
    {
     "data": {
      "text/html": [
       "<div>\n",
       "<style>\n",
       "    .dataframe thead tr:only-child th {\n",
       "        text-align: right;\n",
       "    }\n",
       "\n",
       "    .dataframe thead th {\n",
       "        text-align: left;\n",
       "    }\n",
       "\n",
       "    .dataframe tbody tr th {\n",
       "        vertical-align: top;\n",
       "    }\n",
       "</style>\n",
       "<table border=\"1\" class=\"dataframe\">\n",
       "  <thead>\n",
       "    <tr style=\"text-align: right;\">\n",
       "      <th></th>\n",
       "      <th>numepolice</th>\n",
       "      <th>exercice</th>\n",
       "      <th>n_sinistre</th>\n",
       "      <th>montantsinistre</th>\n",
       "    </tr>\n",
       "  </thead>\n",
       "  <tbody>\n",
       "    <tr>\n",
       "      <th>0</th>\n",
       "      <td>81901</td>\n",
       "      <td>2014</td>\n",
       "      <td>20122123</td>\n",
       "      <td>74562.071796</td>\n",
       "    </tr>\n",
       "    <tr>\n",
       "      <th>1</th>\n",
       "      <td>32189</td>\n",
       "      <td>2009</td>\n",
       "      <td>20122124</td>\n",
       "      <td>15406.714135</td>\n",
       "    </tr>\n",
       "    <tr>\n",
       "      <th>2</th>\n",
       "      <td>19126</td>\n",
       "      <td>2012</td>\n",
       "      <td>20122125</td>\n",
       "      <td>1414.462804</td>\n",
       "    </tr>\n",
       "    <tr>\n",
       "      <th>3</th>\n",
       "      <td>29557</td>\n",
       "      <td>2009</td>\n",
       "      <td>20122126</td>\n",
       "      <td>829.018140</td>\n",
       "    </tr>\n",
       "    <tr>\n",
       "      <th>4</th>\n",
       "      <td>32576</td>\n",
       "      <td>2011</td>\n",
       "      <td>20122127</td>\n",
       "      <td>32718.336369</td>\n",
       "    </tr>\n",
       "  </tbody>\n",
       "</table>\n",
       "</div>"
      ],
      "text/plain": [
       "   numepolice  exercice  n_sinistre  montantsinistre\n",
       "0       81901      2014    20122123     74562.071796\n",
       "1       32189      2009    20122124     15406.714135\n",
       "2       19126      2012    20122125      1414.462804\n",
       "3       29557      2009    20122126       829.018140\n",
       "4       32576      2011    20122127     32718.336369"
      ]
     },
     "execution_count": 233,
     "metadata": {},
     "output_type": "execute_result"
    }
   ],
   "source": [
    "sinistre.head()"
   ]
  },
  {
   "cell_type": "code",
   "execution_count": 234,
   "metadata": {
    "id": "IfeCRJV3zz85",
    "scrolled": true
   },
   "outputs": [
    {
     "data": {
      "text/plain": [
       "montantsinistre\n",
       "80.316882        1\n",
       "167.669710       1\n",
       "188.960066       1\n",
       "196.205624       1\n",
       "202.178193       1\n",
       "203.505769       1\n",
       "205.500743       1\n",
       "206.552074       1\n",
       "214.824447       1\n",
       "227.723377       1\n",
       "230.638165       1\n",
       "232.336298       1\n",
       "233.683289       1\n",
       "234.504596       1\n",
       "236.052345       1\n",
       "239.800429       1\n",
       "242.767462       1\n",
       "249.509464       1\n",
       "252.900201       1\n",
       "252.915011       1\n",
       "254.403304       1\n",
       "256.113251       1\n",
       "256.970588       1\n",
       "265.416279       1\n",
       "266.437159       1\n",
       "269.259612       1\n",
       "269.683165       1\n",
       "274.428902       1\n",
       "276.144183       1\n",
       "277.931794       1\n",
       "                ..\n",
       "75727.786165     1\n",
       "76142.393409     1\n",
       "76494.066076     1\n",
       "76653.051922     1\n",
       "77202.809026     1\n",
       "77397.852106     1\n",
       "77757.587704     1\n",
       "78210.816127     1\n",
       "78259.619486     1\n",
       "78414.805721     1\n",
       "79212.837192     1\n",
       "79234.305685     1\n",
       "80741.581410     1\n",
       "80936.176487     1\n",
       "81535.578080     1\n",
       "82687.849820     1\n",
       "83381.736845     1\n",
       "83876.205272     1\n",
       "84091.747790     1\n",
       "84155.314626     1\n",
       "84898.415576     1\n",
       "85220.838886     1\n",
       "92196.779750     1\n",
       "94494.994391     1\n",
       "94722.561043     1\n",
       "95457.540159     1\n",
       "96627.294628     1\n",
       "99585.114441     1\n",
       "101978.029097    1\n",
       "107800.308903    1\n",
       "Length: 6895, dtype: int64"
      ]
     },
     "execution_count": 234,
     "metadata": {},
     "output_type": "execute_result"
    }
   ],
   "source": [
    "Charge=sinistre.groupby(by=\"montantsinistre\").size()\n",
    "Charge"
   ]
  },
  {
   "cell_type": "code",
   "execution_count": 235,
   "metadata": {
    "id": "9Jq7Uffezz85"
   },
   "outputs": [
    {
     "data": {
      "text/plain": [
       "[<matplotlib.lines.Line2D at 0x1c5ee718518>]"
      ]
     },
     "execution_count": 235,
     "metadata": {},
     "output_type": "execute_result"
    }
   ],
   "source": [
    "fig = plt.figure(1, figsize=(15, 10))\n",
    "\n",
    "plt.plot(Charge)\n"
   ]
  },
  {
   "cell_type": "markdown",
   "metadata": {
    "id": "w_EnQDJXzz85"
   },
   "source": [
    "# Join the two dataframes"
   ]
  },
  {
   "cell_type": "markdown",
   "metadata": {
    "id": "b687AnNAzz86"
   },
   "source": [
    "**drop non useful columns**"
   ]
  },
  {
   "cell_type": "code",
   "execution_count": 236,
   "metadata": {
    "collapsed": true,
    "id": "MIOx5XjPzz86"
   },
   "outputs": [],
   "source": [
    "Sinistre = sinistre.drop('n_sinistre', axis=1)"
   ]
  },
  {
   "cell_type": "code",
   "execution_count": 237,
   "metadata": {
    "id": "Uae0PO28zz86"
   },
   "outputs": [
    {
     "data": {
      "text/html": [
       "<div>\n",
       "<style>\n",
       "    .dataframe thead tr:only-child th {\n",
       "        text-align: right;\n",
       "    }\n",
       "\n",
       "    .dataframe thead th {\n",
       "        text-align: left;\n",
       "    }\n",
       "\n",
       "    .dataframe tbody tr th {\n",
       "        vertical-align: top;\n",
       "    }\n",
       "</style>\n",
       "<table border=\"1\" class=\"dataframe\">\n",
       "  <thead>\n",
       "    <tr style=\"text-align: right;\">\n",
       "      <th></th>\n",
       "      <th>numepolice</th>\n",
       "      <th>exercice</th>\n",
       "      <th>montantsinistre</th>\n",
       "    </tr>\n",
       "  </thead>\n",
       "  <tbody>\n",
       "    <tr>\n",
       "      <th>0</th>\n",
       "      <td>81901</td>\n",
       "      <td>2014</td>\n",
       "      <td>74562.071796</td>\n",
       "    </tr>\n",
       "    <tr>\n",
       "      <th>1</th>\n",
       "      <td>32189</td>\n",
       "      <td>2009</td>\n",
       "      <td>15406.714135</td>\n",
       "    </tr>\n",
       "    <tr>\n",
       "      <th>2</th>\n",
       "      <td>19126</td>\n",
       "      <td>2012</td>\n",
       "      <td>1414.462804</td>\n",
       "    </tr>\n",
       "    <tr>\n",
       "      <th>3</th>\n",
       "      <td>29557</td>\n",
       "      <td>2009</td>\n",
       "      <td>829.018140</td>\n",
       "    </tr>\n",
       "    <tr>\n",
       "      <th>4</th>\n",
       "      <td>32576</td>\n",
       "      <td>2011</td>\n",
       "      <td>32718.336369</td>\n",
       "    </tr>\n",
       "    <tr>\n",
       "      <th>5</th>\n",
       "      <td>67716</td>\n",
       "      <td>2011</td>\n",
       "      <td>1279.714272</td>\n",
       "    </tr>\n",
       "    <tr>\n",
       "      <th>6</th>\n",
       "      <td>67716</td>\n",
       "      <td>2011</td>\n",
       "      <td>785.947622</td>\n",
       "    </tr>\n",
       "    <tr>\n",
       "      <th>7</th>\n",
       "      <td>67716</td>\n",
       "      <td>2011</td>\n",
       "      <td>1447.896019</td>\n",
       "    </tr>\n",
       "    <tr>\n",
       "      <th>8</th>\n",
       "      <td>44974</td>\n",
       "      <td>2014</td>\n",
       "      <td>506.098427</td>\n",
       "    </tr>\n",
       "    <tr>\n",
       "      <th>9</th>\n",
       "      <td>63741</td>\n",
       "      <td>2011</td>\n",
       "      <td>2110.427469</td>\n",
       "    </tr>\n",
       "    <tr>\n",
       "      <th>10</th>\n",
       "      <td>34174</td>\n",
       "      <td>2016</td>\n",
       "      <td>60859.784099</td>\n",
       "    </tr>\n",
       "    <tr>\n",
       "      <th>11</th>\n",
       "      <td>33366</td>\n",
       "      <td>2014</td>\n",
       "      <td>2229.509457</td>\n",
       "    </tr>\n",
       "    <tr>\n",
       "      <th>12</th>\n",
       "      <td>93820</td>\n",
       "      <td>2014</td>\n",
       "      <td>829.231393</td>\n",
       "    </tr>\n",
       "    <tr>\n",
       "      <th>13</th>\n",
       "      <td>93820</td>\n",
       "      <td>2014</td>\n",
       "      <td>16759.106021</td>\n",
       "    </tr>\n",
       "    <tr>\n",
       "      <th>14</th>\n",
       "      <td>93820</td>\n",
       "      <td>2014</td>\n",
       "      <td>1098.363563</td>\n",
       "    </tr>\n",
       "    <tr>\n",
       "      <th>15</th>\n",
       "      <td>29857</td>\n",
       "      <td>2014</td>\n",
       "      <td>1142.125558</td>\n",
       "    </tr>\n",
       "    <tr>\n",
       "      <th>16</th>\n",
       "      <td>29857</td>\n",
       "      <td>2014</td>\n",
       "      <td>28860.697625</td>\n",
       "    </tr>\n",
       "    <tr>\n",
       "      <th>17</th>\n",
       "      <td>29857</td>\n",
       "      <td>2014</td>\n",
       "      <td>23792.110029</td>\n",
       "    </tr>\n",
       "    <tr>\n",
       "      <th>18</th>\n",
       "      <td>93950</td>\n",
       "      <td>2016</td>\n",
       "      <td>2813.609408</td>\n",
       "    </tr>\n",
       "    <tr>\n",
       "      <th>19</th>\n",
       "      <td>71158</td>\n",
       "      <td>2009</td>\n",
       "      <td>1066.571781</td>\n",
       "    </tr>\n",
       "    <tr>\n",
       "      <th>20</th>\n",
       "      <td>71158</td>\n",
       "      <td>2009</td>\n",
       "      <td>17609.581332</td>\n",
       "    </tr>\n",
       "    <tr>\n",
       "      <th>21</th>\n",
       "      <td>71158</td>\n",
       "      <td>2009</td>\n",
       "      <td>11110.237794</td>\n",
       "    </tr>\n",
       "    <tr>\n",
       "      <th>22</th>\n",
       "      <td>72952</td>\n",
       "      <td>2012</td>\n",
       "      <td>565.204391</td>\n",
       "    </tr>\n",
       "    <tr>\n",
       "      <th>23</th>\n",
       "      <td>72952</td>\n",
       "      <td>2012</td>\n",
       "      <td>1269.161458</td>\n",
       "    </tr>\n",
       "    <tr>\n",
       "      <th>24</th>\n",
       "      <td>72952</td>\n",
       "      <td>2012</td>\n",
       "      <td>28575.379083</td>\n",
       "    </tr>\n",
       "    <tr>\n",
       "      <th>25</th>\n",
       "      <td>72952</td>\n",
       "      <td>2012</td>\n",
       "      <td>11052.381071</td>\n",
       "    </tr>\n",
       "    <tr>\n",
       "      <th>26</th>\n",
       "      <td>20577</td>\n",
       "      <td>2016</td>\n",
       "      <td>908.087693</td>\n",
       "    </tr>\n",
       "    <tr>\n",
       "      <th>27</th>\n",
       "      <td>62872</td>\n",
       "      <td>2012</td>\n",
       "      <td>18153.498042</td>\n",
       "    </tr>\n",
       "    <tr>\n",
       "      <th>28</th>\n",
       "      <td>69391</td>\n",
       "      <td>2016</td>\n",
       "      <td>1424.789271</td>\n",
       "    </tr>\n",
       "    <tr>\n",
       "      <th>29</th>\n",
       "      <td>69391</td>\n",
       "      <td>2016</td>\n",
       "      <td>1177.439889</td>\n",
       "    </tr>\n",
       "    <tr>\n",
       "      <th>...</th>\n",
       "      <td>...</td>\n",
       "      <td>...</td>\n",
       "      <td>...</td>\n",
       "    </tr>\n",
       "    <tr>\n",
       "      <th>7087</th>\n",
       "      <td>91537</td>\n",
       "      <td>2016</td>\n",
       "      <td>1082.421812</td>\n",
       "    </tr>\n",
       "    <tr>\n",
       "      <th>7088</th>\n",
       "      <td>73424</td>\n",
       "      <td>2017</td>\n",
       "      <td>764.899886</td>\n",
       "    </tr>\n",
       "    <tr>\n",
       "      <th>7089</th>\n",
       "      <td>53762</td>\n",
       "      <td>2012</td>\n",
       "      <td>2683.426964</td>\n",
       "    </tr>\n",
       "    <tr>\n",
       "      <th>7090</th>\n",
       "      <td>47938</td>\n",
       "      <td>2014</td>\n",
       "      <td>5263.376345</td>\n",
       "    </tr>\n",
       "    <tr>\n",
       "      <th>7091</th>\n",
       "      <td>77442</td>\n",
       "      <td>2016</td>\n",
       "      <td>362.003854</td>\n",
       "    </tr>\n",
       "    <tr>\n",
       "      <th>7092</th>\n",
       "      <td>50175</td>\n",
       "      <td>2012</td>\n",
       "      <td>14169.276547</td>\n",
       "    </tr>\n",
       "    <tr>\n",
       "      <th>7093</th>\n",
       "      <td>50175</td>\n",
       "      <td>2012</td>\n",
       "      <td>633.404946</td>\n",
       "    </tr>\n",
       "    <tr>\n",
       "      <th>7094</th>\n",
       "      <td>50175</td>\n",
       "      <td>2012</td>\n",
       "      <td>2562.916203</td>\n",
       "    </tr>\n",
       "    <tr>\n",
       "      <th>7095</th>\n",
       "      <td>50175</td>\n",
       "      <td>2012</td>\n",
       "      <td>14639.377157</td>\n",
       "    </tr>\n",
       "    <tr>\n",
       "      <th>7096</th>\n",
       "      <td>13347</td>\n",
       "      <td>2009</td>\n",
       "      <td>15806.772533</td>\n",
       "    </tr>\n",
       "    <tr>\n",
       "      <th>7097</th>\n",
       "      <td>13347</td>\n",
       "      <td>2009</td>\n",
       "      <td>56709.699147</td>\n",
       "    </tr>\n",
       "    <tr>\n",
       "      <th>7098</th>\n",
       "      <td>67788</td>\n",
       "      <td>2015</td>\n",
       "      <td>20610.477373</td>\n",
       "    </tr>\n",
       "    <tr>\n",
       "      <th>7099</th>\n",
       "      <td>28117</td>\n",
       "      <td>2011</td>\n",
       "      <td>15868.846799</td>\n",
       "    </tr>\n",
       "    <tr>\n",
       "      <th>7100</th>\n",
       "      <td>28117</td>\n",
       "      <td>2011</td>\n",
       "      <td>11904.776363</td>\n",
       "    </tr>\n",
       "    <tr>\n",
       "      <th>7101</th>\n",
       "      <td>62778</td>\n",
       "      <td>2015</td>\n",
       "      <td>1788.930602</td>\n",
       "    </tr>\n",
       "    <tr>\n",
       "      <th>7106</th>\n",
       "      <td>38068</td>\n",
       "      <td>2016</td>\n",
       "      <td>893.047341</td>\n",
       "    </tr>\n",
       "    <tr>\n",
       "      <th>7107</th>\n",
       "      <td>1386</td>\n",
       "      <td>2017</td>\n",
       "      <td>26223.522476</td>\n",
       "    </tr>\n",
       "    <tr>\n",
       "      <th>7108</th>\n",
       "      <td>38627</td>\n",
       "      <td>2009</td>\n",
       "      <td>16852.150796</td>\n",
       "    </tr>\n",
       "    <tr>\n",
       "      <th>7109</th>\n",
       "      <td>38627</td>\n",
       "      <td>2009</td>\n",
       "      <td>16105.177043</td>\n",
       "    </tr>\n",
       "    <tr>\n",
       "      <th>7110</th>\n",
       "      <td>1134</td>\n",
       "      <td>2014</td>\n",
       "      <td>1342.386954</td>\n",
       "    </tr>\n",
       "    <tr>\n",
       "      <th>7111</th>\n",
       "      <td>18656</td>\n",
       "      <td>2015</td>\n",
       "      <td>575.506015</td>\n",
       "    </tr>\n",
       "    <tr>\n",
       "      <th>7112</th>\n",
       "      <td>53807</td>\n",
       "      <td>2014</td>\n",
       "      <td>1500.596903</td>\n",
       "    </tr>\n",
       "    <tr>\n",
       "      <th>7113</th>\n",
       "      <td>40801</td>\n",
       "      <td>2017</td>\n",
       "      <td>2444.735722</td>\n",
       "    </tr>\n",
       "    <tr>\n",
       "      <th>7114</th>\n",
       "      <td>19947</td>\n",
       "      <td>2012</td>\n",
       "      <td>34537.249597</td>\n",
       "    </tr>\n",
       "    <tr>\n",
       "      <th>7115</th>\n",
       "      <td>19947</td>\n",
       "      <td>2012</td>\n",
       "      <td>35911.678908</td>\n",
       "    </tr>\n",
       "    <tr>\n",
       "      <th>7116</th>\n",
       "      <td>19947</td>\n",
       "      <td>2012</td>\n",
       "      <td>397.593577</td>\n",
       "    </tr>\n",
       "    <tr>\n",
       "      <th>7117</th>\n",
       "      <td>92887</td>\n",
       "      <td>2009</td>\n",
       "      <td>27623.865711</td>\n",
       "    </tr>\n",
       "    <tr>\n",
       "      <th>7118</th>\n",
       "      <td>8750</td>\n",
       "      <td>2014</td>\n",
       "      <td>19577.193889</td>\n",
       "    </tr>\n",
       "    <tr>\n",
       "      <th>7119</th>\n",
       "      <td>92945</td>\n",
       "      <td>2016</td>\n",
       "      <td>1378.129647</td>\n",
       "    </tr>\n",
       "    <tr>\n",
       "      <th>7120</th>\n",
       "      <td>92945</td>\n",
       "      <td>2016</td>\n",
       "      <td>1135.790053</td>\n",
       "    </tr>\n",
       "  </tbody>\n",
       "</table>\n",
       "<p>6895 rows × 3 columns</p>\n",
       "</div>"
      ],
      "text/plain": [
       "      numepolice  exercice  montantsinistre\n",
       "0          81901      2014     74562.071796\n",
       "1          32189      2009     15406.714135\n",
       "2          19126      2012      1414.462804\n",
       "3          29557      2009       829.018140\n",
       "4          32576      2011     32718.336369\n",
       "5          67716      2011      1279.714272\n",
       "6          67716      2011       785.947622\n",
       "7          67716      2011      1447.896019\n",
       "8          44974      2014       506.098427\n",
       "9          63741      2011      2110.427469\n",
       "10         34174      2016     60859.784099\n",
       "11         33366      2014      2229.509457\n",
       "12         93820      2014       829.231393\n",
       "13         93820      2014     16759.106021\n",
       "14         93820      2014      1098.363563\n",
       "15         29857      2014      1142.125558\n",
       "16         29857      2014     28860.697625\n",
       "17         29857      2014     23792.110029\n",
       "18         93950      2016      2813.609408\n",
       "19         71158      2009      1066.571781\n",
       "20         71158      2009     17609.581332\n",
       "21         71158      2009     11110.237794\n",
       "22         72952      2012       565.204391\n",
       "23         72952      2012      1269.161458\n",
       "24         72952      2012     28575.379083\n",
       "25         72952      2012     11052.381071\n",
       "26         20577      2016       908.087693\n",
       "27         62872      2012     18153.498042\n",
       "28         69391      2016      1424.789271\n",
       "29         69391      2016      1177.439889\n",
       "...          ...       ...              ...\n",
       "7087       91537      2016      1082.421812\n",
       "7088       73424      2017       764.899886\n",
       "7089       53762      2012      2683.426964\n",
       "7090       47938      2014      5263.376345\n",
       "7091       77442      2016       362.003854\n",
       "7092       50175      2012     14169.276547\n",
       "7093       50175      2012       633.404946\n",
       "7094       50175      2012      2562.916203\n",
       "7095       50175      2012     14639.377157\n",
       "7096       13347      2009     15806.772533\n",
       "7097       13347      2009     56709.699147\n",
       "7098       67788      2015     20610.477373\n",
       "7099       28117      2011     15868.846799\n",
       "7100       28117      2011     11904.776363\n",
       "7101       62778      2015      1788.930602\n",
       "7106       38068      2016       893.047341\n",
       "7107        1386      2017     26223.522476\n",
       "7108       38627      2009     16852.150796\n",
       "7109       38627      2009     16105.177043\n",
       "7110        1134      2014      1342.386954\n",
       "7111       18656      2015       575.506015\n",
       "7112       53807      2014      1500.596903\n",
       "7113       40801      2017      2444.735722\n",
       "7114       19947      2012     34537.249597\n",
       "7115       19947      2012     35911.678908\n",
       "7116       19947      2012       397.593577\n",
       "7117       92887      2009     27623.865711\n",
       "7118        8750      2014     19577.193889\n",
       "7119       92945      2016      1378.129647\n",
       "7120       92945      2016      1135.790053\n",
       "\n",
       "[6895 rows x 3 columns]"
      ]
     },
     "execution_count": 237,
     "metadata": {},
     "output_type": "execute_result"
    }
   ],
   "source": [
    "Sinistre"
   ]
  },
  {
   "cell_type": "code",
   "execution_count": null,
   "metadata": {
    "collapsed": true
   },
   "outputs": [],
   "source": []
  },
  {
   "cell_type": "code",
   "execution_count": 238,
   "metadata": {
    "collapsed": true
   },
   "outputs": [],
   "source": [
    "charge_totale=sinistre.groupby([\"numepolice\",\"exercice\"])[\"montantsinistre\"].sum()\n",
    "nb_accidents=sinistre.groupby([\"numepolice\",\"exercice\"])[\"montantsinistre\"].count()\n",
    "\n",
    "sinistre_new=pd.DataFrame(charge_totale/nb_accidents)\n",
    "sinistre_new[\"cout moyen\"]=sinistre_new[\"montantsinistre\"]\n",
    "\n",
    "sinistre_new.drop(\"montantsinistre\",axis=1,inplace=True)\n",
    "sinistre_new.reset_index(inplace=True)"
   ]
  },
  {
   "cell_type": "code",
   "execution_count": 239,
   "metadata": {},
   "outputs": [
    {
     "data": {
      "text/plain": [
       "1.0"
      ]
     },
     "execution_count": 239,
     "metadata": {},
     "output_type": "execute_result"
    }
   ],
   "source": [
    "#Pour la base des données production les indices sont les memes \n",
    "\n",
    "production.groupby([\"numepolice\",\t\"exercice\"])[\"Sexe\"].count().sum()/production.shape[0]"
   ]
  },
  {
   "cell_type": "code",
   "execution_count": null,
   "metadata": {
    "collapsed": true
   },
   "outputs": [],
   "source": []
  },
  {
   "cell_type": "code",
   "execution_count": 240,
   "metadata": {
    "collapsed": true,
    "id": "0ef9dBzUzz86"
   },
   "outputs": [],
   "source": [
    "result = pd.merge(production, sinistre_new, how='outer', on=['numepolice', 'exercice'])"
   ]
  },
  {
   "cell_type": "code",
   "execution_count": 241,
   "metadata": {
    "id": "K9GpNnHIzz87"
   },
   "outputs": [
    {
     "data": {
      "text/plain": [
       "(9685, 10)"
      ]
     },
     "execution_count": 241,
     "metadata": {},
     "output_type": "execute_result"
    }
   ],
   "source": [
    "result.shape"
   ]
  },
  {
   "cell_type": "code",
   "execution_count": 242,
   "metadata": {
    "id": "Q-lRJ0Oqzz87"
   },
   "outputs": [
    {
     "data": {
      "text/plain": [
       "numepolice                  0\n",
       "exercice                    0\n",
       "Sexe                        0\n",
       "Zone                        0\n",
       "combustion                  0\n",
       "PF                          0\n",
       "exposition                  0\n",
       "age permis                  0\n",
       "ancieneté de véhicule       0\n",
       "cout moyen               5160\n",
       "dtype: int64"
      ]
     },
     "execution_count": 242,
     "metadata": {},
     "output_type": "execute_result"
    }
   ],
   "source": [
    "result.isnull().sum()"
   ]
  },
  {
   "cell_type": "code",
   "execution_count": 243,
   "metadata": {
    "id": "I7pb6D1pzz88"
   },
   "outputs": [
    {
     "data": {
      "text/html": [
       "<div>\n",
       "<style>\n",
       "    .dataframe thead tr:only-child th {\n",
       "        text-align: right;\n",
       "    }\n",
       "\n",
       "    .dataframe thead th {\n",
       "        text-align: left;\n",
       "    }\n",
       "\n",
       "    .dataframe tbody tr th {\n",
       "        vertical-align: top;\n",
       "    }\n",
       "</style>\n",
       "<table border=\"1\" class=\"dataframe\">\n",
       "  <thead>\n",
       "    <tr style=\"text-align: right;\">\n",
       "      <th></th>\n",
       "      <th>numepolice</th>\n",
       "      <th>exercice</th>\n",
       "      <th>Sexe</th>\n",
       "      <th>Zone</th>\n",
       "      <th>combustion</th>\n",
       "      <th>PF</th>\n",
       "      <th>exposition</th>\n",
       "      <th>age permis</th>\n",
       "      <th>ancieneté de véhicule</th>\n",
       "      <th>cout moyen</th>\n",
       "    </tr>\n",
       "  </thead>\n",
       "  <tbody>\n",
       "    <tr>\n",
       "      <th>9680</th>\n",
       "      <td>92887</td>\n",
       "      <td>2009</td>\n",
       "      <td>F</td>\n",
       "      <td>Dakhla-Oued Ed Dahab</td>\n",
       "      <td>Diesel</td>\n",
       "      <td>&gt;=14</td>\n",
       "      <td>0.971814</td>\n",
       "      <td>18</td>\n",
       "      <td>10</td>\n",
       "      <td>27623.865711</td>\n",
       "    </tr>\n",
       "    <tr>\n",
       "      <th>9681</th>\n",
       "      <td>40374</td>\n",
       "      <td>2014</td>\n",
       "      <td>F</td>\n",
       "      <td>Dakhla-Oued Ed Dahab</td>\n",
       "      <td>Diesel</td>\n",
       "      <td>&gt;=14</td>\n",
       "      <td>0.398156</td>\n",
       "      <td>64</td>\n",
       "      <td>22</td>\n",
       "      <td>NaN</td>\n",
       "    </tr>\n",
       "    <tr>\n",
       "      <th>9682</th>\n",
       "      <td>8750</td>\n",
       "      <td>2014</td>\n",
       "      <td>F</td>\n",
       "      <td>Dakhla-Oued Ed Dahab</td>\n",
       "      <td>Diesel</td>\n",
       "      <td>&gt;=14</td>\n",
       "      <td>0.707098</td>\n",
       "      <td>78</td>\n",
       "      <td>2</td>\n",
       "      <td>19577.193889</td>\n",
       "    </tr>\n",
       "    <tr>\n",
       "      <th>9683</th>\n",
       "      <td>63415</td>\n",
       "      <td>2012</td>\n",
       "      <td>F</td>\n",
       "      <td>Dakhla-Oued Ed Dahab</td>\n",
       "      <td>Diesel</td>\n",
       "      <td>&gt;=14</td>\n",
       "      <td>0.583604</td>\n",
       "      <td>19</td>\n",
       "      <td>6</td>\n",
       "      <td>NaN</td>\n",
       "    </tr>\n",
       "    <tr>\n",
       "      <th>9684</th>\n",
       "      <td>92945</td>\n",
       "      <td>2016</td>\n",
       "      <td>F</td>\n",
       "      <td>Dakhla-Oued Ed Dahab</td>\n",
       "      <td>Diesel</td>\n",
       "      <td>&gt;=14</td>\n",
       "      <td>0.817461</td>\n",
       "      <td>72</td>\n",
       "      <td>31</td>\n",
       "      <td>1256.959850</td>\n",
       "    </tr>\n",
       "  </tbody>\n",
       "</table>\n",
       "</div>"
      ],
      "text/plain": [
       "      numepolice  exercice Sexe                  Zone combustion    PF  \\\n",
       "9680       92887      2009    F  Dakhla-Oued Ed Dahab     Diesel  >=14   \n",
       "9681       40374      2014    F  Dakhla-Oued Ed Dahab     Diesel  >=14   \n",
       "9682        8750      2014    F  Dakhla-Oued Ed Dahab     Diesel  >=14   \n",
       "9683       63415      2012    F  Dakhla-Oued Ed Dahab     Diesel  >=14   \n",
       "9684       92945      2016    F  Dakhla-Oued Ed Dahab     Diesel  >=14   \n",
       "\n",
       "      exposition  age permis  ancieneté de véhicule    cout moyen  \n",
       "9680    0.971814          18                     10  27623.865711  \n",
       "9681    0.398156          64                     22           NaN  \n",
       "9682    0.707098          78                      2  19577.193889  \n",
       "9683    0.583604          19                      6           NaN  \n",
       "9684    0.817461          72                     31   1256.959850  "
      ]
     },
     "execution_count": 243,
     "metadata": {},
     "output_type": "execute_result"
    }
   ],
   "source": [
    "result.tail()"
   ]
  },
  {
   "cell_type": "code",
   "execution_count": 244,
   "metadata": {
    "collapsed": true,
    "id": "WEjLalUazz88"
   },
   "outputs": [],
   "source": [
    "import numpy as np\n",
    "result.replace(np.nan, 0, inplace=True)"
   ]
  },
  {
   "cell_type": "code",
   "execution_count": 245,
   "metadata": {
    "id": "0M1nJEynzz88"
   },
   "outputs": [
    {
     "data": {
      "text/html": [
       "<div>\n",
       "<style>\n",
       "    .dataframe thead tr:only-child th {\n",
       "        text-align: right;\n",
       "    }\n",
       "\n",
       "    .dataframe thead th {\n",
       "        text-align: left;\n",
       "    }\n",
       "\n",
       "    .dataframe tbody tr th {\n",
       "        vertical-align: top;\n",
       "    }\n",
       "</style>\n",
       "<table border=\"1\" class=\"dataframe\">\n",
       "  <thead>\n",
       "    <tr style=\"text-align: right;\">\n",
       "      <th></th>\n",
       "      <th>numepolice</th>\n",
       "      <th>exercice</th>\n",
       "      <th>Sexe</th>\n",
       "      <th>Zone</th>\n",
       "      <th>combustion</th>\n",
       "      <th>PF</th>\n",
       "      <th>exposition</th>\n",
       "      <th>age permis</th>\n",
       "      <th>ancieneté de véhicule</th>\n",
       "      <th>cout moyen</th>\n",
       "    </tr>\n",
       "  </thead>\n",
       "  <tbody>\n",
       "    <tr>\n",
       "      <th>9680</th>\n",
       "      <td>92887</td>\n",
       "      <td>2009</td>\n",
       "      <td>F</td>\n",
       "      <td>Dakhla-Oued Ed Dahab</td>\n",
       "      <td>Diesel</td>\n",
       "      <td>&gt;=14</td>\n",
       "      <td>0.971814</td>\n",
       "      <td>18</td>\n",
       "      <td>10</td>\n",
       "      <td>27623.865711</td>\n",
       "    </tr>\n",
       "    <tr>\n",
       "      <th>9681</th>\n",
       "      <td>40374</td>\n",
       "      <td>2014</td>\n",
       "      <td>F</td>\n",
       "      <td>Dakhla-Oued Ed Dahab</td>\n",
       "      <td>Diesel</td>\n",
       "      <td>&gt;=14</td>\n",
       "      <td>0.398156</td>\n",
       "      <td>64</td>\n",
       "      <td>22</td>\n",
       "      <td>0.000000</td>\n",
       "    </tr>\n",
       "    <tr>\n",
       "      <th>9682</th>\n",
       "      <td>8750</td>\n",
       "      <td>2014</td>\n",
       "      <td>F</td>\n",
       "      <td>Dakhla-Oued Ed Dahab</td>\n",
       "      <td>Diesel</td>\n",
       "      <td>&gt;=14</td>\n",
       "      <td>0.707098</td>\n",
       "      <td>78</td>\n",
       "      <td>2</td>\n",
       "      <td>19577.193889</td>\n",
       "    </tr>\n",
       "    <tr>\n",
       "      <th>9683</th>\n",
       "      <td>63415</td>\n",
       "      <td>2012</td>\n",
       "      <td>F</td>\n",
       "      <td>Dakhla-Oued Ed Dahab</td>\n",
       "      <td>Diesel</td>\n",
       "      <td>&gt;=14</td>\n",
       "      <td>0.583604</td>\n",
       "      <td>19</td>\n",
       "      <td>6</td>\n",
       "      <td>0.000000</td>\n",
       "    </tr>\n",
       "    <tr>\n",
       "      <th>9684</th>\n",
       "      <td>92945</td>\n",
       "      <td>2016</td>\n",
       "      <td>F</td>\n",
       "      <td>Dakhla-Oued Ed Dahab</td>\n",
       "      <td>Diesel</td>\n",
       "      <td>&gt;=14</td>\n",
       "      <td>0.817461</td>\n",
       "      <td>72</td>\n",
       "      <td>31</td>\n",
       "      <td>1256.959850</td>\n",
       "    </tr>\n",
       "  </tbody>\n",
       "</table>\n",
       "</div>"
      ],
      "text/plain": [
       "      numepolice  exercice Sexe                  Zone combustion    PF  \\\n",
       "9680       92887      2009    F  Dakhla-Oued Ed Dahab     Diesel  >=14   \n",
       "9681       40374      2014    F  Dakhla-Oued Ed Dahab     Diesel  >=14   \n",
       "9682        8750      2014    F  Dakhla-Oued Ed Dahab     Diesel  >=14   \n",
       "9683       63415      2012    F  Dakhla-Oued Ed Dahab     Diesel  >=14   \n",
       "9684       92945      2016    F  Dakhla-Oued Ed Dahab     Diesel  >=14   \n",
       "\n",
       "      exposition  age permis  ancieneté de véhicule    cout moyen  \n",
       "9680    0.971814          18                     10  27623.865711  \n",
       "9681    0.398156          64                     22      0.000000  \n",
       "9682    0.707098          78                      2  19577.193889  \n",
       "9683    0.583604          19                      6      0.000000  \n",
       "9684    0.817461          72                     31   1256.959850  "
      ]
     },
     "execution_count": 245,
     "metadata": {},
     "output_type": "execute_result"
    }
   ],
   "source": [
    "result.tail()"
   ]
  },
  {
   "cell_type": "code",
   "execution_count": 246,
   "metadata": {
    "id": "AcHE_868zz88"
   },
   "outputs": [],
   "source": [
    "result.drop(['numepolice','exercice'], inplace= True,axis=1)"
   ]
  },
  {
   "cell_type": "code",
   "execution_count": 247,
   "metadata": {
    "id": "1GiOya9Lzz89"
   },
   "outputs": [
    {
     "data": {
      "text/html": [
       "<div>\n",
       "<style>\n",
       "    .dataframe thead tr:only-child th {\n",
       "        text-align: right;\n",
       "    }\n",
       "\n",
       "    .dataframe thead th {\n",
       "        text-align: left;\n",
       "    }\n",
       "\n",
       "    .dataframe tbody tr th {\n",
       "        vertical-align: top;\n",
       "    }\n",
       "</style>\n",
       "<table border=\"1\" class=\"dataframe\">\n",
       "  <thead>\n",
       "    <tr style=\"text-align: right;\">\n",
       "      <th></th>\n",
       "      <th>Sexe</th>\n",
       "      <th>Zone</th>\n",
       "      <th>combustion</th>\n",
       "      <th>PF</th>\n",
       "      <th>exposition</th>\n",
       "      <th>age permis</th>\n",
       "      <th>ancieneté de véhicule</th>\n",
       "      <th>cout moyen</th>\n",
       "    </tr>\n",
       "  </thead>\n",
       "  <tbody>\n",
       "    <tr>\n",
       "      <th>0</th>\n",
       "      <td>M</td>\n",
       "      <td>Tanger-Tétouan-Hoceïma</td>\n",
       "      <td>Essence</td>\n",
       "      <td>&lt;8</td>\n",
       "      <td>0.783100</td>\n",
       "      <td>31</td>\n",
       "      <td>33</td>\n",
       "      <td>74562.071796</td>\n",
       "    </tr>\n",
       "    <tr>\n",
       "      <th>1</th>\n",
       "      <td>M</td>\n",
       "      <td>Tanger-Tétouan-Hoceïma</td>\n",
       "      <td>Essence</td>\n",
       "      <td>&lt;8</td>\n",
       "      <td>0.869327</td>\n",
       "      <td>19</td>\n",
       "      <td>35</td>\n",
       "      <td>15406.714135</td>\n",
       "    </tr>\n",
       "    <tr>\n",
       "      <th>2</th>\n",
       "      <td>M</td>\n",
       "      <td>Tanger-Tétouan-Hoceïma</td>\n",
       "      <td>Essence</td>\n",
       "      <td>&lt;8</td>\n",
       "      <td>0.167662</td>\n",
       "      <td>57</td>\n",
       "      <td>15</td>\n",
       "      <td>1414.462804</td>\n",
       "    </tr>\n",
       "    <tr>\n",
       "      <th>3</th>\n",
       "      <td>M</td>\n",
       "      <td>Tanger-Tétouan-Hoceïma</td>\n",
       "      <td>Essence</td>\n",
       "      <td>&lt;8</td>\n",
       "      <td>0.864763</td>\n",
       "      <td>50</td>\n",
       "      <td>20</td>\n",
       "      <td>0.000000</td>\n",
       "    </tr>\n",
       "    <tr>\n",
       "      <th>4</th>\n",
       "      <td>M</td>\n",
       "      <td>Tanger-Tétouan-Hoceïma</td>\n",
       "      <td>Essence</td>\n",
       "      <td>&lt;8</td>\n",
       "      <td>0.369087</td>\n",
       "      <td>33</td>\n",
       "      <td>22</td>\n",
       "      <td>0.000000</td>\n",
       "    </tr>\n",
       "  </tbody>\n",
       "</table>\n",
       "</div>"
      ],
      "text/plain": [
       "  Sexe                    Zone combustion  PF  exposition  age permis  \\\n",
       "0    M  Tanger-Tétouan-Hoceïma    Essence  <8    0.783100          31   \n",
       "1    M  Tanger-Tétouan-Hoceïma    Essence  <8    0.869327          19   \n",
       "2    M  Tanger-Tétouan-Hoceïma    Essence  <8    0.167662          57   \n",
       "3    M  Tanger-Tétouan-Hoceïma    Essence  <8    0.864763          50   \n",
       "4    M  Tanger-Tétouan-Hoceïma    Essence  <8    0.369087          33   \n",
       "\n",
       "   ancieneté de véhicule    cout moyen  \n",
       "0                     33  74562.071796  \n",
       "1                     35  15406.714135  \n",
       "2                     15   1414.462804  \n",
       "3                     20      0.000000  \n",
       "4                     22      0.000000  "
      ]
     },
     "execution_count": 247,
     "metadata": {},
     "output_type": "execute_result"
    }
   ],
   "source": [
    "result.head()"
   ]
  },
  {
   "cell_type": "code",
   "execution_count": 248,
   "metadata": {
    "collapsed": true,
    "id": "4r1sj32GFM67"
   },
   "outputs": [],
   "source": [
    "result_avant=result"
   ]
  },
  {
   "cell_type": "code",
   "execution_count": 249,
   "metadata": {
    "id": "-8pNy035zz89"
   },
   "outputs": [
    {
     "data": {
      "text/html": [
       "<div>\n",
       "<style>\n",
       "    .dataframe thead tr:only-child th {\n",
       "        text-align: right;\n",
       "    }\n",
       "\n",
       "    .dataframe thead th {\n",
       "        text-align: left;\n",
       "    }\n",
       "\n",
       "    .dataframe tbody tr th {\n",
       "        vertical-align: top;\n",
       "    }\n",
       "</style>\n",
       "<table border=\"1\" class=\"dataframe\">\n",
       "  <thead>\n",
       "    <tr style=\"text-align: right;\">\n",
       "      <th></th>\n",
       "      <th>exposition</th>\n",
       "      <th>age permis</th>\n",
       "      <th>ancieneté de véhicule</th>\n",
       "      <th>cout moyen</th>\n",
       "    </tr>\n",
       "  </thead>\n",
       "  <tbody>\n",
       "    <tr>\n",
       "      <th>count</th>\n",
       "      <td>9685.000000</td>\n",
       "      <td>9685.000000</td>\n",
       "      <td>9685.000000</td>\n",
       "      <td>9685.000000</td>\n",
       "    </tr>\n",
       "    <tr>\n",
       "      <th>mean</th>\n",
       "      <td>0.497137</td>\n",
       "      <td>49.289830</td>\n",
       "      <td>20.239855</td>\n",
       "      <td>5353.617803</td>\n",
       "    </tr>\n",
       "    <tr>\n",
       "      <th>std</th>\n",
       "      <td>0.288628</td>\n",
       "      <td>17.605642</td>\n",
       "      <td>11.396336</td>\n",
       "      <td>11340.394683</td>\n",
       "    </tr>\n",
       "    <tr>\n",
       "      <th>min</th>\n",
       "      <td>0.000049</td>\n",
       "      <td>15.000000</td>\n",
       "      <td>0.000000</td>\n",
       "      <td>0.000000</td>\n",
       "    </tr>\n",
       "    <tr>\n",
       "      <th>25%</th>\n",
       "      <td>0.247441</td>\n",
       "      <td>34.000000</td>\n",
       "      <td>11.000000</td>\n",
       "      <td>0.000000</td>\n",
       "    </tr>\n",
       "    <tr>\n",
       "      <th>50%</th>\n",
       "      <td>0.494651</td>\n",
       "      <td>49.000000</td>\n",
       "      <td>20.000000</td>\n",
       "      <td>0.000000</td>\n",
       "    </tr>\n",
       "    <tr>\n",
       "      <th>75%</th>\n",
       "      <td>0.744306</td>\n",
       "      <td>64.000000</td>\n",
       "      <td>30.000000</td>\n",
       "      <td>3414.974970</td>\n",
       "    </tr>\n",
       "    <tr>\n",
       "      <th>max</th>\n",
       "      <td>0.999999</td>\n",
       "      <td>83.000000</td>\n",
       "      <td>43.000000</td>\n",
       "      <td>107800.308903</td>\n",
       "    </tr>\n",
       "  </tbody>\n",
       "</table>\n",
       "</div>"
      ],
      "text/plain": [
       "        exposition   age permis  ancieneté de véhicule     cout moyen\n",
       "count  9685.000000  9685.000000            9685.000000    9685.000000\n",
       "mean      0.497137    49.289830              20.239855    5353.617803\n",
       "std       0.288628    17.605642              11.396336   11340.394683\n",
       "min       0.000049    15.000000               0.000000       0.000000\n",
       "25%       0.247441    34.000000              11.000000       0.000000\n",
       "50%       0.494651    49.000000              20.000000       0.000000\n",
       "75%       0.744306    64.000000              30.000000    3414.974970\n",
       "max       0.999999    83.000000              43.000000  107800.308903"
      ]
     },
     "execution_count": 249,
     "metadata": {},
     "output_type": "execute_result"
    }
   ],
   "source": [
    "result.describe()"
   ]
  },
  {
   "cell_type": "code",
   "execution_count": 250,
   "metadata": {
    "collapsed": true,
    "id": "vUMug9R9zz89"
   },
   "outputs": [],
   "source": [
    "from sklearn import preprocessing\n",
    "le = preprocessing.LabelEncoder()\n",
    "for i in ['Sexe',\t'Zone',\t'combustion',\t'PF'] :\n",
    "    result[i]=le.fit_transform(result[i])"
   ]
  },
  {
   "cell_type": "code",
   "execution_count": 251,
   "metadata": {
    "collapsed": true,
    "id": "jkFfnigGRlUK"
   },
   "outputs": [],
   "source": [
    "import seaborn as sns\n",
    "sns.set(rc={'figure.figsize':(14.7,10.27)})"
   ]
  },
  {
   "cell_type": "code",
   "execution_count": 252,
   "metadata": {
    "collapsed": true
   },
   "outputs": [],
   "source": [
    "result.to_csv(\"result.csv\")"
   ]
  },
  {
   "cell_type": "code",
   "execution_count": 257,
   "metadata": {
    "id": "O1wO31tFRR7h"
   },
   "outputs": [
    {
     "data": {
      "image/png": "[encoded data removed]",
      "text/plain": [
       "<Figure size 1058.4x739.44 with 2 Axes>"
      ]
     },
     "metadata": {},
     "output_type": "display_data"
    }
   ],
   "source": [
    "import pandas as pd\n",
    "import seaborn as sns\n",
    "import matplotlib.pyplot as plt\n",
    "\n",
    "corrMatrix = result.corr()\n",
    "sns.heatmap(corrMatrix, annot=True)\n",
    "plt.savefig('plot.png', dpi=300)"
   ]
  },
  {
   "cell_type": "code",
   "execution_count": 258,
   "metadata": {
    "id": "zEDxuCZMwhur"
   },
   "outputs": [
    {
     "data": {
      "text/plain": [
       "<AxesSubplot:xlabel='PF', ylabel='Count'>"
      ]
     },
     "execution_count": 258,
     "metadata": {},
     "output_type": "execute_result"
    },
    {
     "data": {
      "image/png": "[encoded data removed]",
      "text/plain": [
       "<Figure size 1058.4x739.44 with 1 Axes>"
      ]
     },
     "metadata": {},
     "output_type": "display_data"
    }
   ],
   "source": [
    "\n",
    "ss=result.groupby(by=\"PF\").size()\n",
    "plt.ylabel('Count')\n",
    "ss.plot.bar()"
   ]
  },
  {
   "cell_type": "markdown",
   "metadata": {
    "id": "W-XZ3qjZAyMD"
   },
   "source": [
    "Statistique descriptive des variables"
   ]
  },
  {
   "cell_type": "markdown",
   "metadata": {
    "id": "pjSE5GUCFBk8"
   },
   "source": [
    "**Sexe**"
   ]
  },
  {
   "cell_type": "code",
   "execution_count": 259,
   "metadata": {
    "id": "2AbysvPJCmUF"
   },
   "outputs": [
    {
     "name": "stdout",
     "output_type": "stream",
     "text": [
      "Le nombre des femmes : 5818 \n",
      "Le nombre des hommes : 3867\n"
     ]
    }
   ],
   "source": [
    "print(\"Le nombre des femmes : {} \\nLe nombre des hommes : {}\".format(sum(result[\"Sexe\"]),result[\"Sexe\"].shape[0]-sum(result[\"Sexe\"])))\n"
   ]
  },
  {
   "cell_type": "code",
   "execution_count": 260,
   "metadata": {
    "id": "94f-8zZWA1qF"
   },
   "outputs": [
    {
     "name": "stdout",
     "output_type": "stream",
     "text": [
      "Le pourcentage des femme est de 0.6007227671657202 \n",
      "Le pourcentage des hommes est de 0.39927723283427985\n"
     ]
    }
   ],
   "source": [
    "\n",
    "print(\"Le pourcentage des femme est de {} \\nLe pourcentage des hommes est de {}\".format(sum(result[\"Sexe\"])/result[\"Sexe\"].shape[0],1- sum(result[\"Sexe\"])/result[\"Sexe\"].shape[0]))"
   ]
  },
  {
   "cell_type": "markdown",
   "metadata": {
    "id": "NXN_5655FFvj"
   },
   "source": [
    "**Combustion**"
   ]
  },
  {
   "cell_type": "code",
   "execution_count": 261,
   "metadata": {
    "colab": {
     "base_uri": "https://localhost:8080/",
     "height": 424
    },
    "id": "X4eccEG7FINf",
    "outputId": "cee4d652-da3e-4d40-a008-319e309a3175"
   },
   "outputs": [
    {
     "data": {
      "text/html": [
       "<div>\n",
       "<style scoped>\n",
       "    .dataframe tbody tr th:only-of-type {\n",
       "        vertical-align: middle;\n",
       "    }\n",
       "\n",
       "    .dataframe tbody tr th {\n",
       "        vertical-align: top;\n",
       "    }\n",
       "\n",
       "    .dataframe thead th {\n",
       "        text-align: right;\n",
       "    }\n",
       "</style>\n",
       "<table border=\"1\" class=\"dataframe\">\n",
       "  <thead>\n",
       "    <tr style=\"text-align: right;\">\n",
       "      <th></th>\n",
       "      <th>Sexe</th>\n",
       "      <th>Zone</th>\n",
       "      <th>combustion</th>\n",
       "      <th>PF</th>\n",
       "      <th>exposition</th>\n",
       "      <th>age permis</th>\n",
       "      <th>ancieneté de véhicule</th>\n",
       "      <th>cout moyen</th>\n",
       "    </tr>\n",
       "  </thead>\n",
       "  <tbody>\n",
       "    <tr>\n",
       "      <th>0</th>\n",
       "      <td>1</td>\n",
       "      <td>11</td>\n",
       "      <td>1</td>\n",
       "      <td>2</td>\n",
       "      <td>0.783100</td>\n",
       "      <td>31</td>\n",
       "      <td>33</td>\n",
       "      <td>74562.071796</td>\n",
       "    </tr>\n",
       "    <tr>\n",
       "      <th>1</th>\n",
       "      <td>1</td>\n",
       "      <td>11</td>\n",
       "      <td>1</td>\n",
       "      <td>2</td>\n",
       "      <td>0.869327</td>\n",
       "      <td>19</td>\n",
       "      <td>35</td>\n",
       "      <td>15406.714135</td>\n",
       "    </tr>\n",
       "    <tr>\n",
       "      <th>2</th>\n",
       "      <td>1</td>\n",
       "      <td>11</td>\n",
       "      <td>1</td>\n",
       "      <td>2</td>\n",
       "      <td>0.167662</td>\n",
       "      <td>57</td>\n",
       "      <td>15</td>\n",
       "      <td>1414.462804</td>\n",
       "    </tr>\n",
       "    <tr>\n",
       "      <th>3</th>\n",
       "      <td>1</td>\n",
       "      <td>11</td>\n",
       "      <td>1</td>\n",
       "      <td>2</td>\n",
       "      <td>0.864763</td>\n",
       "      <td>50</td>\n",
       "      <td>20</td>\n",
       "      <td>0.000000</td>\n",
       "    </tr>\n",
       "    <tr>\n",
       "      <th>4</th>\n",
       "      <td>1</td>\n",
       "      <td>11</td>\n",
       "      <td>1</td>\n",
       "      <td>2</td>\n",
       "      <td>0.369087</td>\n",
       "      <td>33</td>\n",
       "      <td>22</td>\n",
       "      <td>0.000000</td>\n",
       "    </tr>\n",
       "    <tr>\n",
       "      <th>...</th>\n",
       "      <td>...</td>\n",
       "      <td>...</td>\n",
       "      <td>...</td>\n",
       "      <td>...</td>\n",
       "      <td>...</td>\n",
       "      <td>...</td>\n",
       "      <td>...</td>\n",
       "      <td>...</td>\n",
       "    </tr>\n",
       "    <tr>\n",
       "      <th>9680</th>\n",
       "      <td>0</td>\n",
       "      <td>4</td>\n",
       "      <td>0</td>\n",
       "      <td>3</td>\n",
       "      <td>0.971814</td>\n",
       "      <td>18</td>\n",
       "      <td>10</td>\n",
       "      <td>27623.865711</td>\n",
       "    </tr>\n",
       "    <tr>\n",
       "      <th>9681</th>\n",
       "      <td>0</td>\n",
       "      <td>4</td>\n",
       "      <td>0</td>\n",
       "      <td>3</td>\n",
       "      <td>0.398156</td>\n",
       "      <td>64</td>\n",
       "      <td>22</td>\n",
       "      <td>0.000000</td>\n",
       "    </tr>\n",
       "    <tr>\n",
       "      <th>9682</th>\n",
       "      <td>0</td>\n",
       "      <td>4</td>\n",
       "      <td>0</td>\n",
       "      <td>3</td>\n",
       "      <td>0.707098</td>\n",
       "      <td>78</td>\n",
       "      <td>2</td>\n",
       "      <td>19577.193889</td>\n",
       "    </tr>\n",
       "    <tr>\n",
       "      <th>9683</th>\n",
       "      <td>0</td>\n",
       "      <td>4</td>\n",
       "      <td>0</td>\n",
       "      <td>3</td>\n",
       "      <td>0.583604</td>\n",
       "      <td>19</td>\n",
       "      <td>6</td>\n",
       "      <td>0.000000</td>\n",
       "    </tr>\n",
       "    <tr>\n",
       "      <th>9684</th>\n",
       "      <td>0</td>\n",
       "      <td>4</td>\n",
       "      <td>0</td>\n",
       "      <td>3</td>\n",
       "      <td>0.817461</td>\n",
       "      <td>72</td>\n",
       "      <td>31</td>\n",
       "      <td>1256.959850</td>\n",
       "    </tr>\n",
       "  </tbody>\n",
       "</table>\n",
       "<p>9685 rows × 8 columns</p>\n",
       "</div>"
      ],
      "text/plain": [
       "      Sexe  Zone  combustion  PF  exposition  age permis  \\\n",
       "0        1    11           1   2    0.783100          31   \n",
       "1        1    11           1   2    0.869327          19   \n",
       "2        1    11           1   2    0.167662          57   \n",
       "3        1    11           1   2    0.864763          50   \n",
       "4        1    11           1   2    0.369087          33   \n",
       "...    ...   ...         ...  ..         ...         ...   \n",
       "9680     0     4           0   3    0.971814          18   \n",
       "9681     0     4           0   3    0.398156          64   \n",
       "9682     0     4           0   3    0.707098          78   \n",
       "9683     0     4           0   3    0.583604          19   \n",
       "9684     0     4           0   3    0.817461          72   \n",
       "\n",
       "      ancieneté de véhicule    cout moyen  \n",
       "0                        33  74562.071796  \n",
       "1                        35  15406.714135  \n",
       "2                        15   1414.462804  \n",
       "3                        20      0.000000  \n",
       "4                        22      0.000000  \n",
       "...                     ...           ...  \n",
       "9680                     10  27623.865711  \n",
       "9681                     22      0.000000  \n",
       "9682                      2  19577.193889  \n",
       "9683                      6      0.000000  \n",
       "9684                     31   1256.959850  \n",
       "\n",
       "[9685 rows x 8 columns]"
      ]
     },
     "execution_count": 261,
     "metadata": {},
     "output_type": "execute_result"
    }
   ],
   "source": [
    "result_avant"
   ]
  },
  {
   "cell_type": "markdown",
   "metadata": {
    "id": "iATxrJX018TU"
   },
   "source": [
    "# Plan d'action :\n",
    "* Modelisation statistique\n",
    "* Utilisation des modeles ML\n",
    "* Organiser le Notebook\n",
    "* Statistique inferentielle  \n",
    "\n"
   ]
  },
  {
   "cell_type": "code",
   "execution_count": 262,
   "metadata": {
    "colab": {
     "base_uri": "https://localhost:8080/",
     "height": 300
    },
    "id": "iIoUx06dUj4n",
    "outputId": "b51d4746-df75-47d2-b547-da443fd78450"
   },
   "outputs": [
    {
     "data": {
      "text/html": [
       "<div>\n",
       "<style scoped>\n",
       "    .dataframe tbody tr th:only-of-type {\n",
       "        vertical-align: middle;\n",
       "    }\n",
       "\n",
       "    .dataframe tbody tr th {\n",
       "        vertical-align: top;\n",
       "    }\n",
       "\n",
       "    .dataframe thead th {\n",
       "        text-align: right;\n",
       "    }\n",
       "</style>\n",
       "<table border=\"1\" class=\"dataframe\">\n",
       "  <thead>\n",
       "    <tr style=\"text-align: right;\">\n",
       "      <th></th>\n",
       "      <th>numepolice</th>\n",
       "      <th>exercice</th>\n",
       "      <th>cout moyen</th>\n",
       "    </tr>\n",
       "  </thead>\n",
       "  <tbody>\n",
       "    <tr>\n",
       "      <th>0</th>\n",
       "      <td>10</td>\n",
       "      <td>2017</td>\n",
       "      <td>1408.642852</td>\n",
       "    </tr>\n",
       "    <tr>\n",
       "      <th>1</th>\n",
       "      <td>49</td>\n",
       "      <td>2011</td>\n",
       "      <td>15041.920772</td>\n",
       "    </tr>\n",
       "    <tr>\n",
       "      <th>2</th>\n",
       "      <td>80</td>\n",
       "      <td>2009</td>\n",
       "      <td>8197.719009</td>\n",
       "    </tr>\n",
       "    <tr>\n",
       "      <th>3</th>\n",
       "      <td>89</td>\n",
       "      <td>2009</td>\n",
       "      <td>1216.393382</td>\n",
       "    </tr>\n",
       "    <tr>\n",
       "      <th>4</th>\n",
       "      <td>112</td>\n",
       "      <td>2016</td>\n",
       "      <td>1012.267204</td>\n",
       "    </tr>\n",
       "    <tr>\n",
       "      <th>...</th>\n",
       "      <td>...</td>\n",
       "      <td>...</td>\n",
       "      <td>...</td>\n",
       "    </tr>\n",
       "    <tr>\n",
       "      <th>4520</th>\n",
       "      <td>99889</td>\n",
       "      <td>2012</td>\n",
       "      <td>20840.486632</td>\n",
       "    </tr>\n",
       "    <tr>\n",
       "      <th>4521</th>\n",
       "      <td>99893</td>\n",
       "      <td>2012</td>\n",
       "      <td>18700.683832</td>\n",
       "    </tr>\n",
       "    <tr>\n",
       "      <th>4522</th>\n",
       "      <td>99975</td>\n",
       "      <td>2017</td>\n",
       "      <td>20689.122540</td>\n",
       "    </tr>\n",
       "    <tr>\n",
       "      <th>4523</th>\n",
       "      <td>99979</td>\n",
       "      <td>2015</td>\n",
       "      <td>14702.461540</td>\n",
       "    </tr>\n",
       "    <tr>\n",
       "      <th>4524</th>\n",
       "      <td>99987</td>\n",
       "      <td>2015</td>\n",
       "      <td>1472.999190</td>\n",
       "    </tr>\n",
       "  </tbody>\n",
       "</table>\n",
       "<p>4525 rows × 3 columns</p>\n",
       "</div>"
      ],
      "text/plain": [
       "      numepolice  exercice    cout moyen\n",
       "0             10      2017   1408.642852\n",
       "1             49      2011  15041.920772\n",
       "2             80      2009   8197.719009\n",
       "3             89      2009   1216.393382\n",
       "4            112      2016   1012.267204\n",
       "...          ...       ...           ...\n",
       "4520       99889      2012  20840.486632\n",
       "4521       99893      2012  18700.683832\n",
       "4522       99975      2017  20689.122540\n",
       "4523       99979      2015  14702.461540\n",
       "4524       99987      2015   1472.999190\n",
       "\n",
       "[4525 rows x 3 columns]"
      ]
     },
     "execution_count": 262,
     "metadata": {},
     "output_type": "execute_result"
    }
   ],
   "source": [
    "sinistre_new"
   ]
  },
  {
   "cell_type": "code",
   "execution_count": 263,
   "metadata": {
    "colab": {
     "base_uri": "https://localhost:8080/",
     "height": 643
    },
    "id": "VeLl6pEyVMd6",
    "outputId": "2c049160-ff0a-4f51-9604-9e71fdd1b134"
   },
   "outputs": [
    {
     "data": {
      "text/plain": [
       "<AxesSubplot:xlabel='cout moyen', ylabel='Count'>"
      ]
     },
     "execution_count": 263,
     "metadata": {},
     "output_type": "execute_result"
    },
    {
     "data": {
      "image/png": "[encoded data removed]",
      "text/plain": [
       "<Figure size 1058.4x739.44 with 1 Axes>"
      ]
     },
     "metadata": {},
     "output_type": "display_data"
    }
   ],
   "source": [
    "import seaborn as sns\n",
    "\n",
    "ss=sinistre_new[\"cout moyen\"]\n",
    "sns.histplot(ss,stat='count',kde='True')\n",
    "#ss.sparse.density()"
   ]
  },
  {
   "cell_type": "code",
   "execution_count": 267,
   "metadata": {
    "colab": {
     "base_uri": "https://localhost:8080/",
     "height": 678
    },
    "id": "fV4uVnp2R292",
    "outputId": "4a57a755-1beb-41dd-ad74-4511645e2b66"
   },
   "outputs": [
    {
     "data": {
      "text/plain": [
       "<AxesSubplot:xlabel='cout moyen', ylabel='Count'>"
      ]
     },
     "execution_count": 267,
     "metadata": {},
     "output_type": "execute_result"
    },
    {
     "data": {
      "image/png": "[encoded data removed]",
      "text/plain": [
       "<Figure size 1058.4x739.44 with 1 Axes>"
      ]
     },
     "metadata": {},
     "output_type": "display_data"
    }
   ],
   "source": [
    "import seaborn as sns\n",
    "\n",
    "ss=np.log(sinistre_new[\"cout moyen\"])\n",
    "sns.histplot(ss,kde=True)\n",
    "#ss.sparse.density()"
   ]
  },
  {
   "cell_type": "code",
   "execution_count": 268,
   "metadata": {
    "colab": {
     "base_uri": "https://localhost:8080/"
    },
    "id": "yGiBX0lOykt2",
    "outputId": "6b16ecfc-5d34-45e2-97e5-a812e10e7418"
   },
   "outputs": [
    {
     "data": {
      "text/plain": [
       "count      4525.000000\n",
       "mean      11458.516778\n",
       "std       14328.999899\n",
       "min          80.316882\n",
       "25%        1186.098035\n",
       "50%        5360.464760\n",
       "75%       17045.976817\n",
       "max      107800.308903\n",
       "Name: cout moyen, dtype: float64"
      ]
     },
     "execution_count": 268,
     "metadata": {},
     "output_type": "execute_result"
    }
   ],
   "source": [
    "sinistre_new[\"cout moyen\"].describe()"
   ]
  },
  {
   "cell_type": "markdown",
   "metadata": {
    "id": "gV7NDOy5jSGX"
   },
   "source": [
    "## Test de \"Kolmogorov-Smirnov\"\n"
   ]
  },
  {
   "cell_type": "markdown",
   "metadata": {
    "id": "BSyRIe6HaSH7"
   },
   "source": [
    "### Test pour la loi log-normale\n",
    "\n",
    "https://machinelearningmastery.com/a-gentle-introduction-to-normality-tests-in-python/"
   ]
  },
  {
   "cell_type": "code",
   "execution_count": 282,
   "metadata": {
    "collapsed": true,
    "id": "smNUD_N_aVyu"
   },
   "outputs": [],
   "source": [
    "from scipy.stats import *\n",
    "from numpy.random import lognormal\n",
    "\n",
    "count=sinistre_new[\"cout moyen\"].count()\n",
    "mu, sigma = sinistre_new[\"cout moyen\"].mean(),sinistre_new[\"cout moyen\"].std()\n",
    "normal_std = np.sqrt(np.log(1 + (sigma/mu)**2))\n",
    "normal_mean = np.log(mu) - normal_std**2 / 2\n",
    "log_norm=lognormal(normal_mean,normal_std,count)"
   ]
  },
  {
   "cell_type": "code",
   "execution_count": 283,
   "metadata": {
    "colab": {
     "base_uri": "https://localhost:8080/"
    },
    "id": "AmqOtf36bp2N",
    "outputId": "1f79dd6c-e2f0-4101-f34e-22c27370b545"
   },
   "outputs": [
    {
     "data": {
      "text/plain": [
       "8.875747685065404"
      ]
     },
     "execution_count": 283,
     "metadata": {},
     "output_type": "execute_result"
    }
   ],
   "source": [
    "normal_mean"
   ]
  },
  {
   "cell_type": "code",
   "execution_count": 284,
   "metadata": {
    "colab": {
     "base_uri": "https://localhost:8080/"
    },
    "id": "7puwgd5WbpYx",
    "outputId": "eab6ded8-03f7-4937-c7b1-2feb9fa06f92"
   },
   "outputs": [
    {
     "data": {
      "text/plain": [
       "11030.020904555804"
      ]
     },
     "execution_count": 284,
     "metadata": {},
     "output_type": "execute_result"
    }
   ],
   "source": [
    "hs.mean()"
   ]
  },
  {
   "cell_type": "code",
   "execution_count": 286,
   "metadata": {
    "colab": {
     "base_uri": "https://localhost:8080/"
    },
    "id": "xp4NskfzbkH_",
    "outputId": "102e9e34-0958-479c-a483-e9048e3bd336"
   },
   "outputs": [
    {
     "data": {
      "text/plain": [
       "KstestResult(statistic=0.3292817679558011, pvalue=1.660219134232328e-217)"
      ]
     },
     "execution_count": 286,
     "metadata": {},
     "output_type": "execute_result"
    }
   ],
   "source": [
    "ks_2samp(sinistre_new[\"cout moyen\"],log_norm )"
   ]
  },
  {
   "cell_type": "markdown",
   "metadata": {
    "id": "M6BMgWO4iyLR"
   },
   "source": [
    "**p-value < 5%  :**\n",
    "The test suggests that the lognormal distribution does not fit the data"
   ]
  },
  {
   "cell_type": "markdown",
   "metadata": {
    "id": "PekwY6yIjd1G"
   },
   "source": [
    "Loi exponentielle :"
   ]
  },
  {
   "cell_type": "code",
   "execution_count": 287,
   "metadata": {
    "collapsed": true,
    "id": "mZOduo8tbar4"
   },
   "outputs": [],
   "source": [
    "from numpy.random.mtrand import exponential\n",
    "Lamda=1/sigma\n"
   ]
  },
  {
   "cell_type": "code",
   "execution_count": 288,
   "metadata": {
    "id": "6mtp3AAJgGTK"
   },
   "outputs": [
    {
     "ename": "NameError",
     "evalue": "name 'lamda' is not defined",
     "output_type": "error",
     "traceback": [
      "\u001b[1;31m---------------------------------------------------------------------------\u001b[0m",
      "\u001b[1;31mNameError\u001b[0m                                 Traceback (most recent call last)",
      "\u001b[1;32m~\\AppData\\Local\\Temp/ipykernel_2940/3798874599.py\u001b[0m in \u001b[0;36m<module>\u001b[1;34m\u001b[0m\n\u001b[1;32m----> 1\u001b[1;33m \u001b[0mexpon_law\u001b[0m\u001b[1;33m=\u001b[0m\u001b[0mexponential\u001b[0m\u001b[1;33m(\u001b[0m\u001b[0mlamda\u001b[0m\u001b[1;33m,\u001b[0m\u001b[0mcount\u001b[0m\u001b[1;33m)\u001b[0m\u001b[1;33m\u001b[0m\u001b[1;33m\u001b[0m\u001b[0m\n\u001b[0m",
      "\u001b[1;31mNameError\u001b[0m: name 'lamda' is not defined"
     ]
    }
   ],
   "source": [
    "expon_law=exponential(lamda,count)"
   ]
  },
  {
   "cell_type": "markdown",
   "metadata": {
    "id": "KRk0wNtnk7uX"
   },
   "source": [
    "testing"
   ]
  },
  {
   "cell_type": "code",
   "execution_count": 101,
   "metadata": {
    "colab": {
     "base_uri": "https://localhost:8080/"
    },
    "id": "x-knstM-k7LH",
    "outputId": "11a616de-b234-4e30-d0b3-4f48609e9e79"
   },
   "outputs": [
    {
     "ename": "NameError",
     "evalue": "name 'expon_law' is not defined",
     "output_type": "error",
     "traceback": [
      "\u001b[1;31m---------------------------------------------------------------------------\u001b[0m",
      "\u001b[1;31mNameError\u001b[0m                                 Traceback (most recent call last)",
      "\u001b[1;32m~\\AppData\\Local\\Temp/ipykernel_5440/629351026.py\u001b[0m in \u001b[0;36m<module>\u001b[1;34m\u001b[0m\n\u001b[1;32m----> 1\u001b[1;33m \u001b[0mks_2samp\u001b[0m\u001b[1;33m(\u001b[0m\u001b[0msinistre\u001b[0m\u001b[1;33m[\u001b[0m\u001b[1;34m'montantsinistre'\u001b[0m\u001b[1;33m]\u001b[0m\u001b[1;33m,\u001b[0m\u001b[0mexpon_law\u001b[0m \u001b[1;33m)\u001b[0m\u001b[1;33m\u001b[0m\u001b[1;33m\u001b[0m\u001b[0m\n\u001b[0m",
      "\u001b[1;31mNameError\u001b[0m: name 'expon_law' is not defined"
     ]
    }
   ],
   "source": [
    "ks_2samp(sinistre['montantsinistre'],expon_law )"
   ]
  },
  {
   "cell_type": "markdown",
   "metadata": {
    "id": "f1OC0is6rIa3"
   },
   "source": [
    "La loi Gamma"
   ]
  },
  {
   "cell_type": "code",
   "execution_count": 102,
   "metadata": {
    "collapsed": true,
    "id": "KsvpPF8JrH-W"
   },
   "outputs": [],
   "source": [
    "count=sinistre[\"montantsinistre\"].count()\n",
    "mu, sigma = sinistre[\"montantsinistre\"].mean(),sinistre[\"montantsinistre\"].std()\n",
    "\n",
    "lamda=mu/sigma**2\n",
    "a=(mu/sigma)**2\n",
    "\n",
    "loi_gamma=np.random.gamma(lamda,a,count)"
   ]
  },
  {
   "cell_type": "code",
   "execution_count": 103,
   "metadata": {
    "colab": {
     "base_uri": "https://localhost:8080/"
    },
    "id": "jgKRcI3rr9yF",
    "outputId": "8b42d337-ad5d-4318-f73f-ca3590db0445"
   },
   "outputs": [
    {
     "data": {
      "text/plain": [
       "array([0., 0., 0., ..., 0., 0., 0.])"
      ]
     },
     "execution_count": 103,
     "metadata": {},
     "output_type": "execute_result"
    }
   ],
   "source": [
    "loi_gamma"
   ]
  },
  {
   "cell_type": "code",
   "execution_count": 104,
   "metadata": {
    "colab": {
     "base_uri": "https://localhost:8080/"
    },
    "id": "Z2DWU9X2rx6O",
    "outputId": "3bf87e40-2010-4aa3-84db-991856dabd50"
   },
   "outputs": [
    {
     "data": {
      "text/plain": [
       "KstestResult(statistic=1.0, pvalue=0.0)"
      ]
     },
     "execution_count": 104,
     "metadata": {},
     "output_type": "execute_result"
    }
   ],
   "source": [
    "#test\n",
    "ks_2samp(sinistre['montantsinistre'],loi_gamma )"
   ]
  },
  {
   "cell_type": "code",
   "execution_count": null,
   "metadata": {
    "collapsed": true,
    "id": "mdJ2-g1Tw9LI"
   },
   "outputs": [],
   "source": []
  },
  {
   "cell_type": "markdown",
   "metadata": {
    "id": "jAfgvOELllUC"
   },
   "source": [
    "Modélisation de la variable alétoire pour un montant inférieur et supérieur à la moyenne, vu que les deux distributions sont les suivant pour les cas :"
   ]
  },
  {
   "cell_type": "markdown",
   "metadata": {
    "id": "aCBIDtbol-3P"
   },
   "source": [
    "**Montant sinistre<moyenne :**"
   ]
  },
  {
   "cell_type": "code",
   "execution_count": 105,
   "metadata": {
    "colab": {
     "base_uri": "https://localhost:8080/",
     "height": 643
    },
    "id": "xxWgPbOgmHk7",
    "outputId": "fb177cce-ed55-476f-fc0c-c9fab2c1bddb"
   },
   "outputs": [
    {
     "data": {
      "text/plain": [
       "<AxesSubplot:xlabel='montantsinistre', ylabel='Count'>"
      ]
     },
     "execution_count": 105,
     "metadata": {},
     "output_type": "execute_result"
    },
    {
     "data": {
      "image/png": "[encoded data removed]",
      "text/plain": [
       "<Figure size 1058.4x739.44 with 1 Axes>"
      ]
     },
     "metadata": {},
     "output_type": "display_data"
    }
   ],
   "source": [
    "import seaborn as sns\n",
    "\n",
    "ss=sinistre[\"montantsinistre\"][sinistre[\"montantsinistre\"]<mu]\n",
    "sns.histplot(ss,stat='count',kde='True')\n",
    "#ss.sparse.density()"
   ]
  },
  {
   "cell_type": "code",
   "execution_count": 106,
   "metadata": {
    "id": "KxqxXevAmjWH"
   },
   "outputs": [
    {
     "ename": "ValueError",
     "evalue": "The truth value of a Series is ambiguous. Use a.empty, a.bool(), a.item(), a.any() or a.all().",
     "output_type": "error",
     "traceback": [
      "\u001b[1;31m---------------------------------------------------------------------------\u001b[0m",
      "\u001b[1;31mValueError\u001b[0m                                Traceback (most recent call last)",
      "\u001b[1;32m~\\AppData\\Local\\Temp/ipykernel_5440/3763615091.py\u001b[0m in \u001b[0;36m<module>\u001b[1;34m\u001b[0m\n\u001b[0;32m      1\u001b[0m \u001b[1;32mfrom\u001b[0m \u001b[0mscipy\u001b[0m\u001b[1;33m.\u001b[0m\u001b[0mstats\u001b[0m \u001b[1;32mimport\u001b[0m \u001b[1;33m*\u001b[0m\u001b[1;33m\u001b[0m\u001b[1;33m\u001b[0m\u001b[0m\n\u001b[0;32m      2\u001b[0m \u001b[1;32mfrom\u001b[0m \u001b[0mnumpy\u001b[0m\u001b[1;33m.\u001b[0m\u001b[0mrandom\u001b[0m \u001b[1;32mimport\u001b[0m \u001b[1;33m*\u001b[0m\u001b[1;33m\u001b[0m\u001b[1;33m\u001b[0m\u001b[0m\n\u001b[1;32m----> 3\u001b[1;33m \u001b[0mmontant_faible\u001b[0m\u001b[1;33m=\u001b[0m\u001b[0msinistre\u001b[0m\u001b[1;33m[\u001b[0m\u001b[1;34m\"montantsinistre\"\u001b[0m\u001b[1;33m]\u001b[0m\u001b[1;33m[\u001b[0m\u001b[1;36m1000\u001b[0m\u001b[1;33m<\u001b[0m\u001b[0msinistre\u001b[0m\u001b[1;33m[\u001b[0m\u001b[1;34m\"montantsinistre\"\u001b[0m\u001b[1;33m]\u001b[0m\u001b[1;33m<\u001b[0m\u001b[1;36m4000\u001b[0m\u001b[1;33m]\u001b[0m\u001b[1;33m\u001b[0m\u001b[1;33m\u001b[0m\u001b[0m\n\u001b[0m\u001b[0;32m      4\u001b[0m \u001b[0mcountf\u001b[0m\u001b[1;33m=\u001b[0m\u001b[0mmontant_faible\u001b[0m\u001b[1;33m.\u001b[0m\u001b[0mcount\u001b[0m\u001b[1;33m(\u001b[0m\u001b[1;33m)\u001b[0m\u001b[1;33m\u001b[0m\u001b[1;33m\u001b[0m\u001b[0m\n\u001b[0;32m      5\u001b[0m \u001b[0mmuf\u001b[0m\u001b[1;33m,\u001b[0m \u001b[0msigmaf\u001b[0m \u001b[1;33m=\u001b[0m \u001b[0mmontant_faible\u001b[0m\u001b[1;33m.\u001b[0m\u001b[0mmean\u001b[0m\u001b[1;33m(\u001b[0m\u001b[1;33m)\u001b[0m\u001b[1;33m,\u001b[0m\u001b[0mmontant_faible\u001b[0m\u001b[1;33m.\u001b[0m\u001b[0mstd\u001b[0m\u001b[1;33m(\u001b[0m\u001b[1;33m)\u001b[0m\u001b[1;33m\u001b[0m\u001b[1;33m\u001b[0m\u001b[0m\n",
      "\u001b[1;32m~\\anaconda3\\lib\\site-packages\\pandas\\core\\generic.py\u001b[0m in \u001b[0;36m__nonzero__\u001b[1;34m(self)\u001b[0m\n\u001b[0;32m   1535\u001b[0m     \u001b[1;33m@\u001b[0m\u001b[0mfinal\u001b[0m\u001b[1;33m\u001b[0m\u001b[1;33m\u001b[0m\u001b[0m\n\u001b[0;32m   1536\u001b[0m     \u001b[1;32mdef\u001b[0m \u001b[0m__nonzero__\u001b[0m\u001b[1;33m(\u001b[0m\u001b[0mself\u001b[0m\u001b[1;33m)\u001b[0m\u001b[1;33m:\u001b[0m\u001b[1;33m\u001b[0m\u001b[1;33m\u001b[0m\u001b[0m\n\u001b[1;32m-> 1537\u001b[1;33m         raise ValueError(\n\u001b[0m\u001b[0;32m   1538\u001b[0m             \u001b[1;34mf\"The truth value of a {type(self).__name__} is ambiguous. \"\u001b[0m\u001b[1;33m\u001b[0m\u001b[1;33m\u001b[0m\u001b[0m\n\u001b[0;32m   1539\u001b[0m             \u001b[1;34m\"Use a.empty, a.bool(), a.item(), a.any() or a.all().\"\u001b[0m\u001b[1;33m\u001b[0m\u001b[1;33m\u001b[0m\u001b[0m\n",
      "\u001b[1;31mValueError\u001b[0m: The truth value of a Series is ambiguous. Use a.empty, a.bool(), a.item(), a.any() or a.all()."
     ]
    }
   ],
   "source": [
    "from scipy.stats import *\n",
    "from numpy.random import *\n",
    "montant_faible=sinistre[\"montantsinistre\"][1000<sinistre[\"montantsinistre\"]<4000]\n",
    "countf=montant_faible.count()\n",
    "muf, sigmaf = montant_faible.mean(),montant_faible.std()\n",
    "normal_std = np.sqrt(np.log(1 + (sigmaf/muf)**2))\n",
    "normal_mean = np.log(muf) - normal_std**2 / 2\n",
    "hs = np.random.lognormal(normal_mean, normal_std, 1000)\n",
    "log_norm=normal(muf,sigmaf,countf)\n",
    "expon_lawf=exponential(1/sigmaf,count)"
   ]
  },
  {
   "cell_type": "code",
   "execution_count": 107,
   "metadata": {
    "colab": {
     "base_uri": "https://localhost:8080/"
    },
    "id": "rKvwBabMnKEh",
    "outputId": "bcbf2f67-3f5a-43d3-fa9b-b490f032a2a3"
   },
   "outputs": [
    {
     "ename": "NameError",
     "evalue": "name 'montant_faible' is not defined",
     "output_type": "error",
     "traceback": [
      "\u001b[1;31m---------------------------------------------------------------------------\u001b[0m",
      "\u001b[1;31mNameError\u001b[0m                                 Traceback (most recent call last)",
      "\u001b[1;32m~\\AppData\\Local\\Temp/ipykernel_5440/909042248.py\u001b[0m in \u001b[0;36m<module>\u001b[1;34m\u001b[0m\n\u001b[1;32m----> 1\u001b[1;33m \u001b[0mks_2samp\u001b[0m\u001b[1;33m(\u001b[0m\u001b[0mmontant_faible\u001b[0m\u001b[1;33m,\u001b[0m\u001b[0mlog_norm\u001b[0m \u001b[1;33m)\u001b[0m\u001b[1;33m\u001b[0m\u001b[1;33m\u001b[0m\u001b[0m\n\u001b[0m",
      "\u001b[1;31mNameError\u001b[0m: name 'montant_faible' is not defined"
     ]
    }
   ],
   "source": [
    "ks_2samp(montant_faible,log_norm )"
   ]
  },
  {
   "cell_type": "markdown",
   "metadata": {
    "id": "53NpgXKSmWQL"
   },
   "source": [
    "**montant sinistre > moyenne :**"
   ]
  },
  {
   "cell_type": "code",
   "execution_count": 108,
   "metadata": {
    "colab": {
     "base_uri": "https://localhost:8080/",
     "height": 643
    },
    "id": "35eeTGN3mav8",
    "outputId": "f5a19913-e485-42d4-9ede-b07e9e35f858"
   },
   "outputs": [
    {
     "data": {
      "text/plain": [
       "<AxesSubplot:xlabel='montantsinistre', ylabel='Count'>"
      ]
     },
     "execution_count": 108,
     "metadata": {},
     "output_type": "execute_result"
    },
    {
     "data": {
      "image/png": "[encoded data removed]",
      "text/plain": [
       "<Figure size 1058.4x739.44 with 1 Axes>"
      ]
     },
     "metadata": {},
     "output_type": "display_data"
    }
   ],
   "source": [
    "import seaborn as sns\n",
    "\n",
    "ss=sinistre[\"montantsinistre\"][sinistre[\"montantsinistre\"]>mu]\n",
    "sns.histplot(ss,stat='count',kde='True')\n",
    "#ss.sparse.density()"
   ]
  },
  {
   "cell_type": "code",
   "execution_count": 109,
   "metadata": {
    "collapsed": true,
    "id": "Yx1G0TVPoPhC"
   },
   "outputs": [],
   "source": [
    "from scipy.stats import *\n",
    "from numpy.random import lognormal\n",
    "grand_montant=sinistre[\"montantsinistre\"][sinistre[\"montantsinistre\"]>20000]\n",
    "count=grand_montant.count()\n",
    "mu, sigma = grand_montant.mean(),grand_montant.std()\n",
    "normal_std = np.sqrt(np.log(1 + (sigma/mu)**2))\n",
    "normal_mean = np.log(mu) - normal_std**2 / 2\n",
    "hs = np.random.lognormal(normal_mean, normal_std, 1000)\n",
    "log_norm=lognormal(normal_mean,normal_std,count)"
   ]
  },
  {
   "cell_type": "code",
   "execution_count": 110,
   "metadata": {
    "colab": {
     "base_uri": "https://localhost:8080/"
    },
    "id": "BEqLipBjov_-",
    "outputId": "c8b7f21a-2738-463f-dae5-fb8e2bfea64d"
   },
   "outputs": [
    {
     "data": {
      "text/plain": [
       "KstestResult(statistic=0.06901128069011281, pvalue=0.001522582452730701)"
      ]
     },
     "execution_count": 110,
     "metadata": {},
     "output_type": "execute_result"
    }
   ],
   "source": [
    "ks_2samp(grand_montant,log_norm )"
   ]
  },
  {
   "cell_type": "markdown",
   "metadata": {
    "id": "LxrbvQeqC8Hj"
   },
   "source": [
    "Machine Learning Part"
   ]
  },
  {
   "cell_type": "code",
   "execution_count": 111,
   "metadata": {
    "colab": {
     "base_uri": "https://localhost:8080/",
     "height": 424
    },
    "id": "uWoVfSH_DAij",
    "outputId": "f271d4e3-47b3-4e5a-a886-f65c25e586c7"
   },
   "outputs": [
    {
     "data": {
      "text/html": [
       "<div>\n",
       "<style scoped>\n",
       "    .dataframe tbody tr th:only-of-type {\n",
       "        vertical-align: middle;\n",
       "    }\n",
       "\n",
       "    .dataframe tbody tr th {\n",
       "        vertical-align: top;\n",
       "    }\n",
       "\n",
       "    .dataframe thead th {\n",
       "        text-align: right;\n",
       "    }\n",
       "</style>\n",
       "<table border=\"1\" class=\"dataframe\">\n",
       "  <thead>\n",
       "    <tr style=\"text-align: right;\">\n",
       "      <th></th>\n",
       "      <th>Sexe</th>\n",
       "      <th>Zone</th>\n",
       "      <th>combustion</th>\n",
       "      <th>PF</th>\n",
       "      <th>exposition</th>\n",
       "      <th>age permis</th>\n",
       "      <th>ancieneté de véhicule</th>\n",
       "      <th>montantsinistre</th>\n",
       "    </tr>\n",
       "  </thead>\n",
       "  <tbody>\n",
       "    <tr>\n",
       "      <th>0</th>\n",
       "      <td>1</td>\n",
       "      <td>11</td>\n",
       "      <td>1</td>\n",
       "      <td>2</td>\n",
       "      <td>0.783100</td>\n",
       "      <td>31</td>\n",
       "      <td>33</td>\n",
       "      <td>74562.071796</td>\n",
       "    </tr>\n",
       "    <tr>\n",
       "      <th>1</th>\n",
       "      <td>1</td>\n",
       "      <td>11</td>\n",
       "      <td>1</td>\n",
       "      <td>2</td>\n",
       "      <td>0.869327</td>\n",
       "      <td>19</td>\n",
       "      <td>35</td>\n",
       "      <td>15406.714135</td>\n",
       "    </tr>\n",
       "    <tr>\n",
       "      <th>2</th>\n",
       "      <td>1</td>\n",
       "      <td>11</td>\n",
       "      <td>1</td>\n",
       "      <td>2</td>\n",
       "      <td>0.167662</td>\n",
       "      <td>57</td>\n",
       "      <td>15</td>\n",
       "      <td>1414.462804</td>\n",
       "    </tr>\n",
       "    <tr>\n",
       "      <th>3</th>\n",
       "      <td>1</td>\n",
       "      <td>11</td>\n",
       "      <td>1</td>\n",
       "      <td>2</td>\n",
       "      <td>0.864763</td>\n",
       "      <td>50</td>\n",
       "      <td>20</td>\n",
       "      <td>0.000000</td>\n",
       "    </tr>\n",
       "    <tr>\n",
       "      <th>4</th>\n",
       "      <td>1</td>\n",
       "      <td>11</td>\n",
       "      <td>1</td>\n",
       "      <td>2</td>\n",
       "      <td>0.369087</td>\n",
       "      <td>33</td>\n",
       "      <td>22</td>\n",
       "      <td>0.000000</td>\n",
       "    </tr>\n",
       "    <tr>\n",
       "      <th>...</th>\n",
       "      <td>...</td>\n",
       "      <td>...</td>\n",
       "      <td>...</td>\n",
       "      <td>...</td>\n",
       "      <td>...</td>\n",
       "      <td>...</td>\n",
       "      <td>...</td>\n",
       "      <td>...</td>\n",
       "    </tr>\n",
       "    <tr>\n",
       "      <th>12050</th>\n",
       "      <td>0</td>\n",
       "      <td>4</td>\n",
       "      <td>0</td>\n",
       "      <td>3</td>\n",
       "      <td>0.398156</td>\n",
       "      <td>64</td>\n",
       "      <td>22</td>\n",
       "      <td>0.000000</td>\n",
       "    </tr>\n",
       "    <tr>\n",
       "      <th>12051</th>\n",
       "      <td>0</td>\n",
       "      <td>4</td>\n",
       "      <td>0</td>\n",
       "      <td>3</td>\n",
       "      <td>0.707098</td>\n",
       "      <td>78</td>\n",
       "      <td>2</td>\n",
       "      <td>19577.193889</td>\n",
       "    </tr>\n",
       "    <tr>\n",
       "      <th>12052</th>\n",
       "      <td>0</td>\n",
       "      <td>4</td>\n",
       "      <td>0</td>\n",
       "      <td>3</td>\n",
       "      <td>0.583604</td>\n",
       "      <td>19</td>\n",
       "      <td>6</td>\n",
       "      <td>0.000000</td>\n",
       "    </tr>\n",
       "    <tr>\n",
       "      <th>12053</th>\n",
       "      <td>0</td>\n",
       "      <td>4</td>\n",
       "      <td>0</td>\n",
       "      <td>3</td>\n",
       "      <td>0.817461</td>\n",
       "      <td>72</td>\n",
       "      <td>31</td>\n",
       "      <td>1378.129647</td>\n",
       "    </tr>\n",
       "    <tr>\n",
       "      <th>12054</th>\n",
       "      <td>0</td>\n",
       "      <td>4</td>\n",
       "      <td>0</td>\n",
       "      <td>3</td>\n",
       "      <td>0.817461</td>\n",
       "      <td>72</td>\n",
       "      <td>31</td>\n",
       "      <td>1135.790053</td>\n",
       "    </tr>\n",
       "  </tbody>\n",
       "</table>\n",
       "<p>12055 rows × 8 columns</p>\n",
       "</div>"
      ],
      "text/plain": [
       "       Sexe  Zone  combustion  PF  exposition  age permis  \\\n",
       "0         1    11           1   2    0.783100          31   \n",
       "1         1    11           1   2    0.869327          19   \n",
       "2         1    11           1   2    0.167662          57   \n",
       "3         1    11           1   2    0.864763          50   \n",
       "4         1    11           1   2    0.369087          33   \n",
       "...     ...   ...         ...  ..         ...         ...   \n",
       "12050     0     4           0   3    0.398156          64   \n",
       "12051     0     4           0   3    0.707098          78   \n",
       "12052     0     4           0   3    0.583604          19   \n",
       "12053     0     4           0   3    0.817461          72   \n",
       "12054     0     4           0   3    0.817461          72   \n",
       "\n",
       "       ancieneté de véhicule  montantsinistre  \n",
       "0                         33     74562.071796  \n",
       "1                         35     15406.714135  \n",
       "2                         15      1414.462804  \n",
       "3                         20         0.000000  \n",
       "4                         22         0.000000  \n",
       "...                      ...              ...  \n",
       "12050                     22         0.000000  \n",
       "12051                      2     19577.193889  \n",
       "12052                      6         0.000000  \n",
       "12053                     31      1378.129647  \n",
       "12054                     31      1135.790053  \n",
       "\n",
       "[12055 rows x 8 columns]"
      ]
     },
     "execution_count": 111,
     "metadata": {},
     "output_type": "execute_result"
    }
   ],
   "source": [
    "result"
   ]
  },
  {
   "cell_type": "code",
   "execution_count": 112,
   "metadata": {
    "id": "ruNGVrnaD2Gq"
   },
   "outputs": [
    {
     "ename": "ModuleNotFoundError",
     "evalue": "No module named 'keras'",
     "output_type": "error",
     "traceback": [
      "\u001b[1;31m---------------------------------------------------------------------------\u001b[0m",
      "\u001b[1;31mModuleNotFoundError\u001b[0m                       Traceback (most recent call last)",
      "\u001b[1;32m~\\AppData\\Local\\Temp/ipykernel_5440/2111869986.py\u001b[0m in \u001b[0;36m<module>\u001b[1;34m\u001b[0m\n\u001b[0;32m      8\u001b[0m \u001b[1;32mfrom\u001b[0m \u001b[0msklearn\u001b[0m\u001b[1;33m.\u001b[0m\u001b[0mmodel_selection\u001b[0m \u001b[1;32mimport\u001b[0m \u001b[0mcross_val_score\u001b[0m\u001b[1;33m,\u001b[0m \u001b[0mGridSearchCV\u001b[0m\u001b[1;33m,\u001b[0m \u001b[0mKFold\u001b[0m\u001b[1;33m,\u001b[0m \u001b[0mRandomizedSearchCV\u001b[0m\u001b[1;33m,\u001b[0m \u001b[0mtrain_test_split\u001b[0m\u001b[1;33m\u001b[0m\u001b[1;33m\u001b[0m\u001b[0m\n\u001b[0;32m      9\u001b[0m \u001b[1;33m\u001b[0m\u001b[0m\n\u001b[1;32m---> 10\u001b[1;33m \u001b[1;32mfrom\u001b[0m \u001b[0mkeras\u001b[0m\u001b[1;33m.\u001b[0m\u001b[0mmodels\u001b[0m \u001b[1;32mimport\u001b[0m \u001b[0mSequential\u001b[0m\u001b[1;33m\u001b[0m\u001b[1;33m\u001b[0m\u001b[0m\n\u001b[0m\u001b[0;32m     11\u001b[0m \u001b[1;32mfrom\u001b[0m \u001b[0mkeras\u001b[0m\u001b[1;33m.\u001b[0m\u001b[0mlayers\u001b[0m \u001b[1;32mimport\u001b[0m \u001b[0mDense\u001b[0m\u001b[1;33m\u001b[0m\u001b[1;33m\u001b[0m\u001b[0m\n\u001b[0;32m     12\u001b[0m \u001b[1;32mfrom\u001b[0m \u001b[0mkeras\u001b[0m\u001b[1;33m.\u001b[0m\u001b[0mlayers\u001b[0m \u001b[1;32mimport\u001b[0m \u001b[0mLSTM\u001b[0m\u001b[1;33m\u001b[0m\u001b[1;33m\u001b[0m\u001b[0m\n",
      "\u001b[1;31mModuleNotFoundError\u001b[0m: No module named 'keras'"
     ]
    }
   ],
   "source": [
    "import numpy as np\n",
    "\n",
    "from scipy.stats import uniform, randint\n",
    "from sklearn.preprocessing import StandardScaler\n",
    "from sklearn.preprocessing import MinMaxScaler\n",
    "\n",
    "from sklearn.metrics import auc, accuracy_score, confusion_matrix, mean_squared_error\n",
    "from sklearn.model_selection import cross_val_score, GridSearchCV, KFold, RandomizedSearchCV, train_test_split\n",
    "\n",
    "from keras.models import Sequential\n",
    "from keras.layers import Dense\n",
    "from keras.layers import LSTM\n",
    "\n",
    "import xgboost as xgb"
   ]
  },
  {
   "cell_type": "code",
   "execution_count": null,
   "metadata": {
    "collapsed": true,
    "id": "ZYbk6WEQDVEl"
   },
   "outputs": [],
   "source": [
    "X = result.drop('montantsinistre', axis=1)\n",
    "y = np.array(result[\"montantsinistre\"])\n",
    "\n",
    "'''\n",
    "scaler = StandardScaler()\n",
    "scaler.fit(X)\n",
    "X = scaler.transform(X)\n",
    "'''\n",
    "# build the scaler model\n",
    "scaler = MinMaxScaler()\n",
    "scaler.fit(X)\n",
    "X = scaler.transform(X)\n",
    "\n",
    "X_train, X_test, y_train, y_test = train_test_split(X, y, test_size=0.33, random_state=42)"
   ]
  },
  {
   "cell_type": "code",
   "execution_count": null,
   "metadata": {
    "colab": {
     "base_uri": "https://localhost:8080/"
    },
    "collapsed": true,
    "id": "QHCxSVarEdi7",
    "outputId": "bdd5b840-fb16-4421-b5ad-349fa8e4fc10"
   },
   "outputs": [],
   "source": [
    "xgb_model = xgb.XGBRegressor(objective=\"reg:linear\", random_state=42)\n",
    "\n",
    "xgb_model.fit(X_train, y_train)\n",
    "\n",
    "y_pred = xgb_model.predict(X_test)\n",
    "\n",
    "mse=mean_squared_error(y_test, y_pred)\n",
    "\n",
    "print(np.sqrt(mse))"
   ]
  },
  {
   "cell_type": "code",
   "execution_count": 113,
   "metadata": {
    "id": "_SKiFIYYKmqx"
   },
   "outputs": [
    {
     "ename": "ModuleNotFoundError",
     "evalue": "No module named 'xgboost'",
     "output_type": "error",
     "traceback": [
      "\u001b[1;31m---------------------------------------------------------------------------\u001b[0m",
      "\u001b[1;31mModuleNotFoundError\u001b[0m                       Traceback (most recent call last)",
      "\u001b[1;32m~\\AppData\\Local\\Temp/ipykernel_5440/1403978788.py\u001b[0m in \u001b[0;36m<module>\u001b[1;34m\u001b[0m\n\u001b[0;32m      2\u001b[0m \u001b[1;32mimport\u001b[0m \u001b[0mpandas\u001b[0m \u001b[1;32mas\u001b[0m \u001b[0mpd\u001b[0m\u001b[1;33m\u001b[0m\u001b[1;33m\u001b[0m\u001b[0m\n\u001b[0;32m      3\u001b[0m \u001b[1;32mimport\u001b[0m \u001b[0mnumpy\u001b[0m \u001b[1;32mas\u001b[0m \u001b[0mnp\u001b[0m\u001b[1;33m\u001b[0m\u001b[1;33m\u001b[0m\u001b[0m\n\u001b[1;32m----> 4\u001b[1;33m \u001b[1;32mimport\u001b[0m \u001b[0mxgboost\u001b[0m \u001b[1;32mas\u001b[0m \u001b[0mxgb\u001b[0m\u001b[1;33m\u001b[0m\u001b[1;33m\u001b[0m\u001b[0m\n\u001b[0m\u001b[0;32m      5\u001b[0m \u001b[1;32mfrom\u001b[0m \u001b[0mxgboost\u001b[0m\u001b[1;33m.\u001b[0m\u001b[0msklearn\u001b[0m \u001b[1;32mimport\u001b[0m \u001b[0mXGBClassifier\u001b[0m\u001b[1;33m\u001b[0m\u001b[1;33m\u001b[0m\u001b[0m\n\u001b[0;32m      6\u001b[0m \u001b[1;32mfrom\u001b[0m \u001b[0msklearn\u001b[0m\u001b[1;33m.\u001b[0m\u001b[0mmodel_selection\u001b[0m \u001b[1;32mimport\u001b[0m \u001b[0mcross_validation\u001b[0m\u001b[1;33m,\u001b[0m \u001b[0mmetrics\u001b[0m   \u001b[1;31m#Additional scklearn functions\u001b[0m\u001b[1;33m\u001b[0m\u001b[1;33m\u001b[0m\u001b[0m\n",
      "\u001b[1;31mModuleNotFoundError\u001b[0m: No module named 'xgboost'"
     ]
    }
   ],
   "source": [
    "#Import libraries:\n",
    "import pandas as pd\n",
    "import numpy as np\n",
    "import xgboost as xgb\n",
    "from xgboost.sklearn import XGBClassifier\n",
    "from sklearn.model_selection import cross_validation, metrics   #Additional scklearn functions\n",
    "from sklearn.grid_search import GridSearchCV   #Perforing grid search\n",
    "\n",
    "import matplotlib.pylab as plt\n",
    "%matplotlib inline\n",
    "from matplotlib.pylab import rcParams\n",
    "rcParams['figure.figsize'] = 12, 4\n"
   ]
  },
  {
   "cell_type": "code",
   "execution_count": 114,
   "metadata": {
    "colab": {
     "base_uri": "https://localhost:8080/"
    },
    "id": "nkltKOQCJZF3",
    "outputId": "9ecafbf8-7256-41e1-b6b6-012f29851876"
   },
   "outputs": [
    {
     "ename": "NameError",
     "evalue": "name 'X_train' is not defined",
     "output_type": "error",
     "traceback": [
      "\u001b[1;31m---------------------------------------------------------------------------\u001b[0m",
      "\u001b[1;31mNameError\u001b[0m                                 Traceback (most recent call last)",
      "\u001b[1;32m~\\AppData\\Local\\Temp/ipykernel_5440/3866999472.py\u001b[0m in \u001b[0;36m<module>\u001b[1;34m\u001b[0m\n\u001b[1;32m----> 1\u001b[1;33m \u001b[0mX_train\u001b[0m\u001b[1;33m[\u001b[0m\u001b[1;36m0\u001b[0m\u001b[1;33m]\u001b[0m\u001b[1;33m\u001b[0m\u001b[1;33m\u001b[0m\u001b[0m\n\u001b[0m",
      "\u001b[1;31mNameError\u001b[0m: name 'X_train' is not defined"
     ]
    }
   ],
   "source": [
    "X_train[0]"
   ]
  },
  {
   "cell_type": "code",
   "execution_count": 115,
   "metadata": {
    "colab": {
     "base_uri": "https://localhost:8080/"
    },
    "id": "B80wja30JKEf",
    "outputId": "4a2aebf7-df62-48c5-fd1a-0253a6d238ab"
   },
   "outputs": [
    {
     "ename": "NameError",
     "evalue": "name 'y_pred' is not defined",
     "output_type": "error",
     "traceback": [
      "\u001b[1;31m---------------------------------------------------------------------------\u001b[0m",
      "\u001b[1;31mNameError\u001b[0m                                 Traceback (most recent call last)",
      "\u001b[1;32m~\\AppData\\Local\\Temp/ipykernel_5440/3562620839.py\u001b[0m in \u001b[0;36m<module>\u001b[1;34m\u001b[0m\n\u001b[1;32m----> 1\u001b[1;33m \u001b[0my_pred\u001b[0m\u001b[1;33m\u001b[0m\u001b[1;33m\u001b[0m\u001b[0m\n\u001b[0m",
      "\u001b[1;31mNameError\u001b[0m: name 'y_pred' is not defined"
     ]
    }
   ],
   "source": [
    "y_pred"
   ]
  },
  {
   "cell_type": "code",
   "execution_count": null,
   "metadata": {
    "collapsed": true,
    "id": "QN8643oIFdFZ"
   },
   "outputs": [],
   "source": [
    "import tensorflow as tf\n",
    "from keras.layers import Dropout\n",
    "\n",
    "nodes=[15,20]\n",
    "\n",
    "def create_model(nodes):\n",
    "    # create model\n",
    "    model = Sequential()\n",
    "    model.add(Dropout(0.2))\n",
    "    \n",
    "    model.add(Dense(nodes[0], input_dim=X_train.shape[1], activation='relu'))\n",
    "    model.add(Dropout(0.2))\n",
    "    \n",
    "    model.add(Dense(nodes[1], activation='relu'))\n",
    "    model.add(Dropout(0.2))\n",
    "    \n",
    "    model.add(Dense(1))\n",
    "    # Compile model\n",
    "    model.compile(optimizer=tf.keras.optimizers.Adam(learning_rate=0.001), loss = 'mse')\n",
    "    return model"
   ]
  },
  {
   "cell_type": "code",
   "execution_count": null,
   "metadata": {
    "collapsed": true,
    "id": "icTeSEd0GJ0D"
   },
   "outputs": [],
   "source": [
    "def fitting(model):\n",
    "  early_stop = tf.keras.callbacks.EarlyStopping(monitor='val_loss', mode='min', verbose=3, patience=10)\n",
    "  history = model.fit(X_train,y_train,validation_split=0.1,\n",
    "          batch_size=128,epochs=100,callbacks=[early_stop])\n",
    "  losses = pd.DataFrame(model.history.history)\n",
    "  #losses.plot()"
   ]
  },
  {
   "cell_type": "code",
   "execution_count": null,
   "metadata": {
    "collapsed": true,
    "id": "WOBiLS6yGOGm"
   },
   "outputs": [],
   "source": [
    "def evaluate(model):\n",
    "  model.evaluate(X_test,y_test,batch_size=128)"
   ]
  },
  {
   "cell_type": "code",
   "execution_count": null,
   "metadata": {
    "colab": {
     "base_uri": "https://localhost:8080/"
    },
    "id": "eI95NxN-FxjQ",
    "outputId": "2fe1b789-f5f8-40b3-b386-a3a3be2d44af"
   },
   "outputs": [
    {
     "name": "stdout",
     "output_type": "stream",
     "text": [
      "-----------------------------------------\n",
      "model created\n",
      "-----------------------------------------\n",
      "Now we fit it\n",
      "-----------------------------------------\n",
      "Epoch 1/100\n",
      "57/57 [==============================] - 1s 6ms/step - loss: 222773168.0000 - val_loss: 214653056.0000\n",
      "Epoch 2/100\n",
      "57/57 [==============================] - 0s 4ms/step - loss: 222071904.0000 - val_loss: 213534944.0000\n",
      "Epoch 3/100\n",
      "57/57 [==============================] - 0s 4ms/step - loss: 220339248.0000 - val_loss: 210921872.0000\n",
      "Epoch 4/100\n",
      "57/57 [==============================] - 0s 4ms/step - loss: 216684992.0000 - val_loss: 205797216.0000\n",
      "Epoch 5/100\n",
      "57/57 [==============================] - 0s 4ms/step - loss: 210631600.0000 - val_loss: 197993520.0000\n",
      "Epoch 6/100\n",
      "57/57 [==============================] - 0s 4ms/step - loss: 202204240.0000 - val_loss: 188905472.0000\n",
      "Epoch 7/100\n",
      "57/57 [==============================] - 0s 4ms/step - loss: 195027600.0000 - val_loss: 181688880.0000\n",
      "Epoch 8/100\n",
      "57/57 [==============================] - 0s 4ms/step - loss: 191316992.0000 - val_loss: 177874992.0000\n",
      "Epoch 9/100\n",
      "57/57 [==============================] - 0s 4ms/step - loss: 188685088.0000 - val_loss: 176302384.0000\n",
      "Epoch 10/100\n",
      "57/57 [==============================] - 0s 4ms/step - loss: 187984176.0000 - val_loss: 175773216.0000\n",
      "Epoch 11/100\n",
      "57/57 [==============================] - 0s 5ms/step - loss: 187531792.0000 - val_loss: 175507680.0000\n",
      "Epoch 12/100\n",
      "57/57 [==============================] - 0s 4ms/step - loss: 188176592.0000 - val_loss: 175428800.0000\n",
      "Epoch 13/100\n",
      "57/57 [==============================] - 0s 4ms/step - loss: 187748752.0000 - val_loss: 175302416.0000\n",
      "Epoch 14/100\n",
      "57/57 [==============================] - 0s 4ms/step - loss: 185643872.0000 - val_loss: 175036432.0000\n",
      "Epoch 15/100\n",
      "57/57 [==============================] - 0s 4ms/step - loss: 187735808.0000 - val_loss: 175209968.0000\n",
      "Epoch 16/100\n",
      "57/57 [==============================] - 0s 4ms/step - loss: 186477584.0000 - val_loss: 175080320.0000\n",
      "Epoch 17/100\n",
      "57/57 [==============================] - 0s 4ms/step - loss: 186128608.0000 - val_loss: 175008736.0000\n",
      "Epoch 18/100\n",
      "57/57 [==============================] - 0s 4ms/step - loss: 186049648.0000 - val_loss: 175032560.0000\n",
      "Epoch 19/100\n",
      "57/57 [==============================] - 0s 4ms/step - loss: 186618272.0000 - val_loss: 174979328.0000\n",
      "Epoch 20/100\n",
      "57/57 [==============================] - 0s 4ms/step - loss: 185858336.0000 - val_loss: 174955056.0000\n",
      "Epoch 21/100\n",
      "57/57 [==============================] - 0s 4ms/step - loss: 186461664.0000 - val_loss: 174877824.0000\n",
      "Epoch 22/100\n",
      "57/57 [==============================] - 0s 4ms/step - loss: 185373232.0000 - val_loss: 174875104.0000\n",
      "Epoch 23/100\n",
      "57/57 [==============================] - 0s 4ms/step - loss: 185356832.0000 - val_loss: 174751360.0000\n",
      "Epoch 24/100\n",
      "57/57 [==============================] - 0s 4ms/step - loss: 185607648.0000 - val_loss: 174786016.0000\n",
      "Epoch 25/100\n",
      "57/57 [==============================] - 0s 4ms/step - loss: 184608192.0000 - val_loss: 174636544.0000\n",
      "Epoch 26/100\n",
      "57/57 [==============================] - 0s 4ms/step - loss: 186147008.0000 - val_loss: 174779184.0000\n",
      "Epoch 27/100\n",
      "57/57 [==============================] - 0s 4ms/step - loss: 185035200.0000 - val_loss: 174702768.0000\n",
      "Epoch 28/100\n",
      "57/57 [==============================] - 0s 4ms/step - loss: 185686800.0000 - val_loss: 174681888.0000\n",
      "Epoch 29/100\n",
      "57/57 [==============================] - 0s 4ms/step - loss: 186385280.0000 - val_loss: 174757744.0000\n",
      "Epoch 30/100\n",
      "57/57 [==============================] - 0s 4ms/step - loss: 184557072.0000 - val_loss: 174577424.0000\n",
      "Epoch 31/100\n",
      "57/57 [==============================] - 0s 4ms/step - loss: 184349968.0000 - val_loss: 174568400.0000\n",
      "Epoch 32/100\n",
      "57/57 [==============================] - 0s 4ms/step - loss: 185058656.0000 - val_loss: 174514608.0000\n",
      "Epoch 33/100\n",
      "57/57 [==============================] - 0s 4ms/step - loss: 184635664.0000 - val_loss: 174484240.0000\n",
      "Epoch 34/100\n",
      "57/57 [==============================] - 0s 4ms/step - loss: 185096688.0000 - val_loss: 174552080.0000\n",
      "Epoch 35/100\n",
      "57/57 [==============================] - 0s 4ms/step - loss: 184206416.0000 - val_loss: 174468432.0000\n",
      "Epoch 36/100\n",
      "57/57 [==============================] - 0s 4ms/step - loss: 185217088.0000 - val_loss: 174418160.0000\n",
      "Epoch 37/100\n",
      "57/57 [==============================] - 0s 4ms/step - loss: 185204368.0000 - val_loss: 174391584.0000\n",
      "Epoch 38/100\n",
      "57/57 [==============================] - 0s 4ms/step - loss: 184844832.0000 - val_loss: 174410080.0000\n",
      "Epoch 39/100\n",
      "57/57 [==============================] - 0s 4ms/step - loss: 184619968.0000 - val_loss: 174432544.0000\n",
      "Epoch 40/100\n",
      "57/57 [==============================] - 0s 4ms/step - loss: 184394416.0000 - val_loss: 174254992.0000\n",
      "Epoch 41/100\n",
      "57/57 [==============================] - 0s 4ms/step - loss: 184117808.0000 - val_loss: 174334544.0000\n",
      "Epoch 42/100\n",
      "57/57 [==============================] - 0s 4ms/step - loss: 184812400.0000 - val_loss: 174263936.0000\n",
      "Epoch 43/100\n",
      "57/57 [==============================] - 0s 4ms/step - loss: 183879392.0000 - val_loss: 174226768.0000\n",
      "Epoch 44/100\n",
      "57/57 [==============================] - 0s 4ms/step - loss: 184642512.0000 - val_loss: 174311344.0000\n",
      "Epoch 45/100\n",
      "57/57 [==============================] - 0s 4ms/step - loss: 185244912.0000 - val_loss: 174400832.0000\n",
      "Epoch 46/100\n",
      "57/57 [==============================] - 0s 4ms/step - loss: 184469424.0000 - val_loss: 174212800.0000\n",
      "Epoch 47/100\n",
      "57/57 [==============================] - 0s 4ms/step - loss: 183046608.0000 - val_loss: 174134256.0000\n",
      "Epoch 48/100\n",
      "57/57 [==============================] - 0s 4ms/step - loss: 183618256.0000 - val_loss: 174030944.0000\n",
      "Epoch 49/100\n",
      "57/57 [==============================] - 0s 4ms/step - loss: 184355968.0000 - val_loss: 174158656.0000\n",
      "Epoch 50/100\n",
      "57/57 [==============================] - 0s 4ms/step - loss: 183251392.0000 - val_loss: 173957520.0000\n",
      "Epoch 51/100\n",
      "57/57 [==============================] - 0s 4ms/step - loss: 184433168.0000 - val_loss: 174115440.0000\n",
      "Epoch 52/100\n",
      "57/57 [==============================] - 0s 4ms/step - loss: 184137888.0000 - val_loss: 174251072.0000\n",
      "Epoch 53/100\n",
      "57/57 [==============================] - 0s 4ms/step - loss: 184009184.0000 - val_loss: 174140512.0000\n",
      "Epoch 54/100\n",
      "57/57 [==============================] - 0s 4ms/step - loss: 184497616.0000 - val_loss: 174110560.0000\n",
      "Epoch 55/100\n",
      "57/57 [==============================] - 0s 4ms/step - loss: 183543920.0000 - val_loss: 174023312.0000\n",
      "Epoch 56/100\n",
      "57/57 [==============================] - 0s 4ms/step - loss: 184231440.0000 - val_loss: 173922064.0000\n",
      "Epoch 57/100\n",
      "57/57 [==============================] - 0s 4ms/step - loss: 182951104.0000 - val_loss: 173806304.0000\n",
      "Epoch 58/100\n",
      "57/57 [==============================] - 0s 4ms/step - loss: 183598592.0000 - val_loss: 173895120.0000\n",
      "Epoch 59/100\n",
      "57/57 [==============================] - 0s 4ms/step - loss: 183575504.0000 - val_loss: 173813360.0000\n",
      "Epoch 60/100\n",
      "57/57 [==============================] - 0s 4ms/step - loss: 184365680.0000 - val_loss: 173886400.0000\n",
      "Epoch 61/100\n",
      "57/57 [==============================] - 0s 4ms/step - loss: 183107744.0000 - val_loss: 173722192.0000\n",
      "Epoch 62/100\n",
      "57/57 [==============================] - 0s 4ms/step - loss: 182853488.0000 - val_loss: 173868048.0000\n",
      "Epoch 63/100\n",
      "57/57 [==============================] - 0s 4ms/step - loss: 183568192.0000 - val_loss: 173825904.0000\n",
      "Epoch 64/100\n",
      "57/57 [==============================] - 0s 4ms/step - loss: 183880224.0000 - val_loss: 173797136.0000\n",
      "Epoch 65/100\n",
      "57/57 [==============================] - 0s 4ms/step - loss: 184084480.0000 - val_loss: 173708400.0000\n",
      "Epoch 66/100\n",
      "57/57 [==============================] - 0s 4ms/step - loss: 183354240.0000 - val_loss: 173613408.0000\n",
      "Epoch 67/100\n",
      "57/57 [==============================] - 0s 4ms/step - loss: 184023040.0000 - val_loss: 173687008.0000\n",
      "Epoch 68/100\n",
      "57/57 [==============================] - 0s 4ms/step - loss: 181998208.0000 - val_loss: 173536656.0000\n",
      "Epoch 69/100\n",
      "57/57 [==============================] - 0s 4ms/step - loss: 182449136.0000 - val_loss: 173415376.0000\n",
      "Epoch 70/100\n",
      "57/57 [==============================] - 0s 4ms/step - loss: 182083072.0000 - val_loss: 173379936.0000\n",
      "Epoch 71/100\n",
      "57/57 [==============================] - 0s 4ms/step - loss: 182942592.0000 - val_loss: 173363520.0000\n",
      "Epoch 72/100\n",
      "57/57 [==============================] - 0s 4ms/step - loss: 182858800.0000 - val_loss: 173401712.0000\n",
      "Epoch 73/100\n",
      "57/57 [==============================] - 0s 4ms/step - loss: 183461872.0000 - val_loss: 173352608.0000\n",
      "Epoch 74/100\n",
      "57/57 [==============================] - 0s 4ms/step - loss: 182546832.0000 - val_loss: 173342256.0000\n",
      "Epoch 75/100\n",
      "57/57 [==============================] - 0s 4ms/step - loss: 183221968.0000 - val_loss: 173387904.0000\n",
      "Epoch 76/100\n",
      "57/57 [==============================] - 0s 4ms/step - loss: 183344624.0000 - val_loss: 173283104.0000\n",
      "Epoch 77/100\n",
      "57/57 [==============================] - 0s 4ms/step - loss: 182284464.0000 - val_loss: 173211328.0000\n",
      "Epoch 78/100\n",
      "57/57 [==============================] - 0s 4ms/step - loss: 182656960.0000 - val_loss: 173109472.0000\n",
      "Epoch 79/100\n",
      "57/57 [==============================] - 0s 4ms/step - loss: 182241616.0000 - val_loss: 173036112.0000\n",
      "Epoch 80/100\n",
      "57/57 [==============================] - 0s 4ms/step - loss: 183447664.0000 - val_loss: 173139056.0000\n",
      "Epoch 81/100\n",
      "57/57 [==============================] - 0s 4ms/step - loss: 183179952.0000 - val_loss: 173105104.0000\n",
      "Epoch 82/100\n",
      "57/57 [==============================] - 0s 4ms/step - loss: 182437808.0000 - val_loss: 173080512.0000\n",
      "Epoch 83/100\n",
      "57/57 [==============================] - 0s 4ms/step - loss: 183024976.0000 - val_loss: 173026032.0000\n",
      "Epoch 84/100\n",
      "57/57 [==============================] - 0s 4ms/step - loss: 182491568.0000 - val_loss: 172927296.0000\n",
      "Epoch 85/100\n",
      "57/57 [==============================] - 0s 4ms/step - loss: 182827376.0000 - val_loss: 172925824.0000\n",
      "Epoch 86/100\n",
      "57/57 [==============================] - 0s 4ms/step - loss: 183023792.0000 - val_loss: 172883424.0000\n",
      "Epoch 87/100\n",
      "57/57 [==============================] - 0s 4ms/step - loss: 182224544.0000 - val_loss: 172815408.0000\n",
      "Epoch 88/100\n",
      "57/57 [==============================] - 0s 4ms/step - loss: 182506592.0000 - val_loss: 172844240.0000\n",
      "Epoch 89/100\n",
      "57/57 [==============================] - 0s 4ms/step - loss: 182335392.0000 - val_loss: 172663776.0000\n",
      "Epoch 90/100\n",
      "57/57 [==============================] - 0s 4ms/step - loss: 183073984.0000 - val_loss: 172678704.0000\n",
      "Epoch 91/100\n",
      "57/57 [==============================] - 0s 4ms/step - loss: 182000032.0000 - val_loss: 172650016.0000\n",
      "Epoch 92/100\n",
      "57/57 [==============================] - 0s 4ms/step - loss: 182295184.0000 - val_loss: 172609024.0000\n",
      "Epoch 93/100\n",
      "57/57 [==============================] - 0s 4ms/step - loss: 183310832.0000 - val_loss: 172562528.0000\n",
      "Epoch 94/100\n",
      "57/57 [==============================] - 0s 4ms/step - loss: 182375104.0000 - val_loss: 172559984.0000\n",
      "Epoch 95/100\n",
      "57/57 [==============================] - 0s 4ms/step - loss: 182331488.0000 - val_loss: 172596848.0000\n",
      "Epoch 96/100\n",
      "57/57 [==============================] - 0s 4ms/step - loss: 182066608.0000 - val_loss: 172389360.0000\n",
      "Epoch 97/100\n",
      "57/57 [==============================] - 0s 4ms/step - loss: 183367984.0000 - val_loss: 172432432.0000\n",
      "Epoch 98/100\n",
      "57/57 [==============================] - 0s 4ms/step - loss: 182151120.0000 - val_loss: 172450976.0000\n",
      "Epoch 99/100\n",
      "57/57 [==============================] - 0s 4ms/step - loss: 182673824.0000 - val_loss: 172484784.0000\n",
      "Epoch 100/100\n",
      "57/57 [==============================] - 0s 4ms/step - loss: 182659792.0000 - val_loss: 172319728.0000\n",
      "-----------------------------------------\n",
      "32/32 [==============================] - 0s 3ms/step - loss: 180394048.0000\n",
      "Evaluation the model in testing data is  None\n"
     ]
    }
   ],
   "source": [
    "model = create_model(nodes)\n",
    "\n",
    "print(\"-----------------------------------------\")\n",
    "print(\"model created\")\n",
    "print(\"-----------------------------------------\")\n",
    "print(\"Now we fit it\")\n",
    "print(\"-----------------------------------------\")\n",
    "fitting(model)\n",
    "print(\"-----------------------------------------\")\n",
    "print(\"Evaluation the model in testing data is \",evaluate(model))"
   ]
  }
 ],
 "metadata": {
  "accelerator": "GPU",
  "colab": {
   "collapsed_sections": [
    "aFEyVlw3zz8s",
    "-STGaULOzz83"
   ],
   "name": "Untitled.ipynb",
   "provenance": []
  },
  "kernelspec": {
   "display_name": "Python 3",
   "language": "python",
   "name": "python3"
  },
  "language_info": {
   "codemirror_mode": {
    "name": "ipython",
    "version": 3
   },
   "file_extension": ".py",
   "mimetype": "text/x-python",
   "name": "python",
   "nbconvert_exporter": "python",
   "pygments_lexer": "ipython3",
   "version": "3.6.3"
  }
 },
 "nbformat": 4,
 "nbformat_minor": 4
}
